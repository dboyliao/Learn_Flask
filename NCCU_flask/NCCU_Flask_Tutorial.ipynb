{
 "metadata": {
  "name": "",
  "signature": "sha256:76184b6b90261333bb5933e6967ede24767224995f28337c543cd533b4106e13"
 },
 "nbformat": 3,
 "nbformat_minor": 0,
 "worksheets": [
  {
   "cells": [
    {
     "cell_type": "markdown",
     "metadata": {},
     "source": [
      "# NCCU Flask Tutorial - 20141020"
     ]
    },
    {
     "cell_type": "code",
     "collapsed": false,
     "input": [
      "import os"
     ],
     "language": "python",
     "metadata": {},
     "outputs": [],
     "prompt_number": 1
    },
    {
     "cell_type": "code",
     "collapsed": false,
     "input": [
      "os.getcwd()"
     ],
     "language": "python",
     "metadata": {},
     "outputs": [
      {
       "metadata": {},
       "output_type": "pyout",
       "prompt_number": 3,
       "text": [
        "'/Users/DboyLiao/Documents/Python_Learning/NCCU_flask'"
       ]
      }
     ],
     "prompt_number": 3
    },
    {
     "cell_type": "code",
     "collapsed": false,
     "input": [
      "%%file server.py\n",
      "from flask import Flask, render_template, request\n",
      "\n",
      "app = Flask(\"todo-list\")\n",
      "app.debug = True\n",
      "\n",
      "@app.route(\"/\")\n",
      "def hello():\n",
      "    name = request.args.get(\"name\", \"World\") # get field name or return \"World\"\n",
      "    todo_list = [\"Todo 1\", \"Todo 2\"]\n",
      "    return render_template(\"todo.html\", todo_list = todo_list, name = name)\n",
      "\n",
      "@app.route(\"/dict\")\n",
      "def dictionary():\n",
      "    dictionary = {\"apple\":\"a fruit\", \"calculus\": \"a subject\", \"name\": \"Dboy\"}\n",
      "    key = request.args.get(\"key\") # get field name or return \"World\"\n",
      "    # request.args is a dictionary like object.\n",
      "    # You can use request.args.keys() to get all available keys in one request.\n",
      "    # ex: /dict?key1=value1&key2=value2\n",
      "    # then request.args.keys() will return a list of keys: [\"key1\", \"key2\"].\n",
      "    if key in dictionary.keys():\n",
      "        value = \"  \" + dictionary[key]\n",
      "    else:\n",
      "        key = \"  error\"\n",
      "        value = \"  Word not found.\"\n",
      "    return render_template(\"dictionary.html\", key = key, value = value)\n",
      "\n",
      "if __name__ == \"__main__\":\n",
      "    app.run(port = 8889) # host=\"0.0.0.0\" will let outer user to access your computer."
     ],
     "language": "python",
     "metadata": {},
     "outputs": [
      {
       "output_type": "stream",
       "stream": "stdout",
       "text": [
        "Overwriting server.py\n"
       ]
      }
     ],
     "prompt_number": 46
    },
    {
     "cell_type": "code",
     "collapsed": false,
     "input": [],
     "language": "python",
     "metadata": {},
     "outputs": []
    },
    {
     "cell_type": "code",
     "collapsed": false,
     "input": [
      "%%file templates/todo.html\n",
      "<!DOCTYPE html>\n",
      "<html>\n",
      "  <head>\n",
      "    <title>NCCU Flask - ToDo List</title>\n",
      "    <meta name=\"viewport\" content=\"width=device-width, initial-scale=1.0\">\n",
      "    <link href=\"static/css/bootstrap.min.css\" rel=\"stylesheet\" media=\"screen\">\n",
      "  </head>\n",
      "  <body>\n",
      "    <h1> Hello, {{name}}.</h1>\n",
      "    <br>\n",
      "    <ol>\n",
      "    {% for item in todo_list%}\n",
      "        <li> {{item}} </li>        \n",
      "    {% endfor %}\n",
      "    </ol>\n",
      "  </body>\n",
      "</html>"
     ],
     "language": "python",
     "metadata": {},
     "outputs": [
      {
       "output_type": "stream",
       "stream": "stdout",
       "text": [
        "Overwriting templates/todo.html\n"
       ]
      }
     ],
     "prompt_number": 33
    },
    {
     "cell_type": "code",
     "collapsed": false,
     "input": [],
     "language": "python",
     "metadata": {},
     "outputs": []
    },
    {
     "cell_type": "code",
     "collapsed": false,
     "input": [
      "%%file templates/dictionary.html\n",
      "<!DOCTYPE html>\n",
      "<html>\n",
      "  <head>\n",
      "    <title>NCCU Flask - ToDo List</title>\n",
      "    <meta name=\"viewport\" content=\"width=device-width, initial-scale=1.0\">\n",
      "    <link href=\"static/css/bootstrap.min.css\" rel=\"stylesheet\" media=\"screen\">\n",
      "  </head>\n",
      "  <body>\n",
      "    <h1> Dictionary Page </h1>\n",
      "    <br>\n",
      "    {{key}}:{{value}}\n",
      "  </body>\n",
      "</html>"
     ],
     "language": "python",
     "metadata": {},
     "outputs": [
      {
       "output_type": "stream",
       "stream": "stdout",
       "text": [
        "Overwriting templates/dictionary.html\n"
       ]
      }
     ],
     "prompt_number": 39
    },
    {
     "cell_type": "code",
     "collapsed": false,
     "input": [],
     "language": "python",
     "metadata": {},
     "outputs": []
    },
    {
     "cell_type": "code",
     "collapsed": false,
     "input": [
      "os.system(\"python server.py &\")"
     ],
     "language": "python",
     "metadata": {},
     "outputs": [
      {
       "metadata": {},
       "output_type": "pyout",
       "prompt_number": 15,
       "text": [
        "0"
       ]
      }
     ],
     "prompt_number": 15
    },
    {
     "cell_type": "code",
     "collapsed": false,
     "input": [
      "os.system(\"ps aux | grep server.py | grep -v grep | awk '{print $2}' | xargs kill\")"
     ],
     "language": "python",
     "metadata": {},
     "outputs": [
      {
       "metadata": {},
       "output_type": "pyout",
       "prompt_number": 14,
       "text": [
        "0"
       ]
      }
     ],
     "prompt_number": 14
    },
    {
     "cell_type": "code",
     "collapsed": false,
     "input": [
      "from flask import request"
     ],
     "language": "python",
     "metadata": {},
     "outputs": [],
     "prompt_number": 21
    },
    {
     "cell_type": "code",
     "collapsed": false,
     "input": [
      "request?"
     ],
     "language": "python",
     "metadata": {},
     "outputs": [],
     "prompt_number": 27
    },
    {
     "cell_type": "code",
     "collapsed": false,
     "input": [],
     "language": "python",
     "metadata": {},
     "outputs": []
    }
   ],
   "metadata": {}
  }
 ]
}