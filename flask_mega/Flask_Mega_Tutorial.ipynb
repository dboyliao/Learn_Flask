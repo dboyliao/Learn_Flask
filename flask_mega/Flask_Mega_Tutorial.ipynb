{
 "metadata": {
  "name": "",
  "signature": "sha256:1283d1bb69d573f24ee18c01465feec1a413d906f81b964a90b3c2b08f34f758"
 },
 "nbformat": 3,
 "nbformat_minor": 0,
 "worksheets": [
  {
   "cells": [
    {
     "cell_type": "markdown",
     "metadata": {},
     "source": [
      "# Reference\n",
      "\n",
      "- [Mega Tutorial](http://blog.miguelgrinberg.com/post/the-flask-mega-tutorial-part-i-hello-world)\n",
      "- [Flask API](http://flask.pocoo.org/docs/0.10/api/)\n",
      "- [Flask Security](https://pythonhosted.org/Flask-Security/)\n",
      "- [Flask OpenID](https://pythonhosted.org/Flask-OpenID/)\n",
      "- [SQL Designer](http://ondras.zarovi.cz/sql/demo/)\n",
      "- [Woosh Text Search](https://pythonhosted.org/Whoosh/querylang.html)\n",
      "- [BootStrap](http://getbootstrap.com/2.3.2/getting-started.html)"
     ]
    },
    {
     "cell_type": "code",
     "collapsed": false,
     "input": [
      "import os"
     ],
     "language": "python",
     "metadata": {},
     "outputs": [],
     "prompt_number": 1
    },
    {
     "cell_type": "code",
     "collapsed": false,
     "input": [
      "os.system(\"ps aux | grep ./run.py | grep -v grep | awk '{print $2}' | xargs kill\")"
     ],
     "language": "python",
     "metadata": {},
     "outputs": [
      {
       "metadata": {},
       "output_type": "pyout",
       "prompt_number": 67,
       "text": [
        "0"
       ]
      }
     ],
     "prompt_number": 67
    },
    {
     "cell_type": "code",
     "collapsed": false,
     "input": [
      "%%file app/__init__.py\n",
      "import os\n",
      "from flask import Flask\n",
      "from flask.ext.sqlalchemy import SQLAlchemy\n",
      "from flask.ext.login import LoginManager\n",
      "from flask.ext.openid import OpenID\n",
      "from flask.ext.mail import Mail\n",
      "from config import basedir\n",
      "from momentjs import momentjs\n",
      "from flask.ext.babel import Babel\n",
      "\n",
      "app = Flask(__name__)\n",
      "app.config.from_object('config')\n",
      "db = SQLAlchemy(app)\n",
      "\n",
      "# Translation.\n",
      "babel = Babel(app)\n",
      "\n",
      "# Login Related\n",
      "lm = LoginManager()\n",
      "lm.init_app(app)\n",
      "lm.login_view = 'login'\n",
      "oid = OpenID(app, os.path.join(basedir, 'tmp'))\n",
      "\n",
      "# Mail\n",
      "mail = Mail(app)\n",
      "\n",
      "# Include Custom class into Jinja engine.\n",
      "app.jinja_env.globals['momentjs'] = momentjs\n",
      "\n",
      "from app import views, models"
     ],
     "language": "python",
     "metadata": {},
     "outputs": [
      {
       "output_type": "stream",
       "stream": "stdout",
       "text": [
        "Overwriting app/__init__.py\n"
       ]
      }
     ],
     "prompt_number": 48
    },
    {
     "cell_type": "code",
     "collapsed": false,
     "input": [
      "%%file app/views.py\n",
      "\"\"\"\n",
      "views.py: Define the view of our app.\n",
      "\"\"\"\n",
      "from app import app, db, lm, oid\n",
      "from flask import render_template, flash, redirect, session, url_for, request, g\n",
      "from flask.ext.login import login_user, logout_user, current_user, login_required\n",
      "from forms import LoginForm, EditForm, PostForm, SearchForm\n",
      "from models import User, Post\n",
      "from datetime import datetime\n",
      "from config import POSTS_PER_PAGE, MAX_SEARCH_RESULTS\n",
      "from emails import follower_notification\n",
      "from app import babel\n",
      "from config import LANGUAGES\n",
      "from flask.ext.babel import gettext\n",
      "\n",
      "# Two route decorator means that both / and /index will direct you to index().\n",
      "# @app.route('/')\n",
      "# @app.route('/index')\n",
      "# def index():\n",
      "#     user = {'nickname': 'Dboy'}  # fake user\n",
      "#     posts = [  # fake array of posts\n",
      "#         { \n",
      "#             'author': {'nickname': 'John'}, \n",
      "#             'body': 'Beautiful day in Portland!' \n",
      "#         },\n",
      "#         { \n",
      "#             'author': {'nickname': 'Susan'}, \n",
      "#             'body': 'The Avengers movie was so cool!' \n",
      "#         }\n",
      "#     ]\n",
      "#     return render_template(\"index_block.html\",\n",
      "#                            title='Home',\n",
      "#                            user=user,\n",
      "#                            posts=posts)\n",
      "\n",
      "@app.route('/', methods=['GET', 'POST'])\n",
      "@app.route('/index', methods=['GET', 'POST'])\n",
      "@app.route('/index/<int:page>', methods=['GET', 'POST'])\n",
      "@login_required\n",
      "def index(page=1):\n",
      "    form = PostForm()\n",
      "    if form.validate_on_submit():\n",
      "        post = Post(body=form.post.data, timestamp=datetime.utcnow(), author=g.user)\n",
      "        db.session.add(post)\n",
      "        db.session.commit()\n",
      "        flash('Your post is now live!')\n",
      "        return redirect(url_for('index'))\n",
      "    posts = g.user.followed_posts().paginate(page, POSTS_PER_PAGE, False)\n",
      "    return render_template('index_block.html',\n",
      "                           user = g.user,\n",
      "                           title='Home',\n",
      "                           form=form,\n",
      "                           posts=posts)\n",
      "\n",
      "# @app.route(\"/login\", methods = [\"GET\", \"POST\"])\n",
      "# def login():\n",
      "#     form = LoginForm()\n",
      "#     if form.validate_on_submit():\n",
      "#         flash('Login requested for OpenID=\"%s\", remember_me=%s' %\n",
      "#               (form.openid.data, str(form.remember_me.data)))\n",
      "#         return redirect('/index')\n",
      "#     return render_template('login.html', \n",
      "#                            title='Sign In',\n",
      "#                            form=form,\n",
      "#                            providers=app.config['OPENID_PROVIDERS'])\n",
      "\n",
      "@app.route('/login', methods=['GET', 'POST'])\n",
      "@oid.loginhandler\n",
      "def login():\n",
      "    if g.user is not None and g.user.is_authenticated():\n",
      "        return redirect(url_for('index'))\n",
      "    form = LoginForm()\n",
      "    if form.validate_on_submit():\n",
      "        session['remember_me'] = form.remember_me.data\n",
      "        return oid.try_login(form.openid.data, ask_for=['nickname', 'email', 'phone'])\n",
      "    return render_template('login.html', \n",
      "                           title='Sign In',\n",
      "                           form=form,\n",
      "                           providers=app.config['OPENID_PROVIDERS'])\n",
      "\n",
      "@app.route('/logout')\n",
      "def logout():\n",
      "    if g.user.is_authenticated():\n",
      "        g.user.last_seen = datetime.utcnow()\n",
      "        db.session.add(g.user)\n",
      "        db.session.commit()\n",
      "    logout_user()\n",
      "    return redirect(url_for('index'))\n",
      "\n",
      "@app.route('/user/<nickname>')\n",
      "@app.route('/user/<nickname>/<int:page>')\n",
      "@login_required\n",
      "def user(nickname, page=1):\n",
      "    user = User.query.filter_by(nickname=nickname).first()\n",
      "    if user is None:\n",
      "        flash('User %s not found.' % nickname)\n",
      "        return redirect(url_for('index'))\n",
      "    posts = user.posts.paginate(page, POSTS_PER_PAGE, False)\n",
      "    print posts.items\n",
      "    return render_template('user.html',\n",
      "                           user=user,\n",
      "                           posts=posts)\n",
      "\n",
      "@app.route('/user/<nickname>/edit', methods=['GET', 'POST'])\n",
      "@login_required\n",
      "def edit(nickname):\n",
      "    form = EditForm(g.user.nickname)\n",
      "    if form.validate_on_submit():\n",
      "        g.user.nickname = form.nickname.data\n",
      "        g.user.about_me = form.about_me.data\n",
      "        db.session.add(g.user)\n",
      "        db.session.commit()\n",
      "        flash('Your changes have been saved.')\n",
      "        return redirect(url_for('user', nickname=nickname))\n",
      "    else:\n",
      "        form.nickname.data = g.user.nickname\n",
      "        form.about_me.data = g.user.about_me\n",
      "    return render_template('edit.html', form=form)\n",
      "\n",
      "@app.route('/follow/<nickname>')\n",
      "@login_required\n",
      "def follow(nickname):\n",
      "    user = User.query.filter_by(nickname=nickname).first()\n",
      "    if user is None:\n",
      "        flash('User %s not found.' % nickname)\n",
      "        return redirect(url_for('index'))\n",
      "    if user == g.user:\n",
      "        flash('You can\\'t follow yourself!')\n",
      "        return redirect(url_for('user', nickname=nickname))\n",
      "    u = g.user.follow(user)\n",
      "    if u is None:\n",
      "        flash('Cannot follow ' + nickname + '.')\n",
      "        return redirect(url_for('user', nickname=nickname))\n",
      "    db.session.add(u)\n",
      "    db.session.commit()\n",
      "    flash('You are now following ' + nickname + '!')\n",
      "    follower_notification(user, g.user)\n",
      "    return redirect(url_for('user', nickname=nickname))\n",
      "\n",
      "@app.route('/unfollow/<nickname>')\n",
      "@login_required\n",
      "def unfollow(nickname):\n",
      "    user = User.query.filter_by(nickname=nickname).first()\n",
      "    if user is None:\n",
      "        flash('User %s not found.' % nickname)\n",
      "        return redirect(url_for('index'))\n",
      "    if user == g.user:\n",
      "        flash('You can\\'t unfollow yourself!')\n",
      "        return redirect(url_for('user', nickname=nickname))\n",
      "    u = g.user.unfollow(user)\n",
      "    if u is None:\n",
      "        flash('Cannot unfollow ' + nickname + '.')\n",
      "        return redirect(url_for('user', nickname=nickname))\n",
      "    db.session.add(u)\n",
      "    db.session.commit()\n",
      "    flash('You have stopped following ' + nickname + '.')\n",
      "    return redirect(url_for('user', nickname=nickname))\n",
      "\n",
      "@app.route('/search', methods=['POST'])\n",
      "@login_required\n",
      "def search():\n",
      "    if not g.search_form.validate_on_submit():\n",
      "        return redirect(url_for('index'))\n",
      "    return redirect(url_for('search_results', query=g.search_form.search.data))\n",
      "\n",
      "@app.route('/search_results/<query>')\n",
      "@login_required\n",
      "def search_results(query):\n",
      "    results = Post.query.whoosh_search(query, MAX_SEARCH_RESULTS).all()\n",
      "    return render_template('search_results.html',\n",
      "                           query=query,\n",
      "                           results=results)\n",
      "\n",
      "@babel.localeselector\n",
      "def get_locale():\n",
      "    return request.accept_languages.best_match(LANGUAGES.keys())\n",
      "\n",
      "@lm.user_loader\n",
      "def load_user(id):\n",
      "    return User.query.get(int(id))\n",
      "\n",
      "@oid.after_login\n",
      "def after_login(resp):\n",
      "    print resp, dir(resp)\n",
      "    if resp.email is None or resp.email == \"\":\n",
      "        flash(gettext('Invalid login. Please try again.'))\n",
      "        redirect(url_for('login'))\n",
      "    user = User.query.filter_by(email=resp.email).first()\n",
      "    if user is None:\n",
      "        nickname = resp.nickname\n",
      "        if nickname is None or nickname == \"\":\n",
      "            nickname = resp.email.split('@')[0]\n",
      "        nickname = User.make_unique_nickname(nickname)\n",
      "        user = User(nickname=nickname, email=resp.email)\n",
      "        db.session.add(user)\n",
      "        db.session.commit()\n",
      "        # make the user follow him/herself\n",
      "        db.session.add(user.follow(user))\n",
      "        db.session.commit()\n",
      "    remember_me = False\n",
      "    if 'remember_me' in session:\n",
      "        remember_me = session['remember_me']\n",
      "        session.pop('remember_me', None)\n",
      "    login_user(user, remember=remember_me)\n",
      "    return redirect(request.args.get('next') or url_for('index'))\n",
      "\n",
      "@app.before_request\n",
      "def before_request():\n",
      "    g.user = current_user\n",
      "    if g.user.is_authenticated():\n",
      "        g.search_form = SearchForm()\n",
      "#     if g.user.is_authenticated():\n",
      "#         g.user.last_seen = datetime.utcnow()\n",
      "#         db.session.add(g.user)\n",
      "#         db.session.commit()\n",
      "\n",
      "@app.errorhandler(404)\n",
      "def not_found_error(error):\n",
      "    return render_template('404.html'), 404\n",
      "\n",
      "@app.errorhandler(500)\n",
      "def internal_error(error):\n",
      "    db.session.rollback()\n",
      "    return render_template('500.html'), 500"
     ],
     "language": "python",
     "metadata": {},
     "outputs": [
      {
       "output_type": "stream",
       "stream": "stdout",
       "text": [
        "Overwriting app/views.py\n"
       ]
      }
     ],
     "prompt_number": 61
    },
    {
     "cell_type": "code",
     "collapsed": false,
     "input": [
      "%%file app/forms.py\n",
      "from flask.ext.wtf import Form\n",
      "from wtforms import StringField, BooleanField, TextAreaField, TextField\n",
      "from wtforms.validators import DataRequired, Length\n",
      "from app.models import User\n",
      "\n",
      "class EditForm(Form):\n",
      "    nickname = TextField('nickname', validators=[DataRequired()])\n",
      "    about_me = TextAreaField('about_me', validators=[Length(min=0, max=140)])\n",
      "\n",
      "    def __init__(self, original_nickname, *args, **kwargs):\n",
      "        Form.__init__(self, *args, **kwargs)\n",
      "        self.original_nickname = original_nickname\n",
      "\n",
      "    def validate(self):\n",
      "        if not Form.validate(self):\n",
      "            return False\n",
      "        if self.nickname.data == self.original_nickname:\n",
      "            return True\n",
      "        user = User.query.filter_by(nickname=self.nickname.data).first()\n",
      "        if user != None:\n",
      "            self.nickname.errors.append('This nickname is already in use. Please choose another one.')\n",
      "            return False\n",
      "        return True\n",
      "\n",
      "class LoginForm(Form):\n",
      "    openid = StringField('openid', validators=[DataRequired()])\n",
      "    remember_me = BooleanField('remember_me', default=False)\n",
      "    \n",
      "class PostForm(Form):\n",
      "    post = StringField('post', validators=[DataRequired()])\n",
      "    \n",
      "class SearchForm(Form):\n",
      "    search = StringField('search', validators=[DataRequired()])"
     ],
     "language": "python",
     "metadata": {},
     "outputs": [
      {
       "output_type": "stream",
       "stream": "stdout",
       "text": [
        "Overwriting app/forms.py\n"
       ]
      }
     ],
     "prompt_number": 21
    },
    {
     "cell_type": "code",
     "collapsed": false,
     "input": [
      "%%file app/emails.py\n",
      "from flask.ext.mail import Message\n",
      "from flask import render_template\n",
      "from config import ADMINS\n",
      "from app import mail\n",
      "\n",
      "def send_email(subject, sender, recipients, text_body = None, html_body = None):\n",
      "    msg = Message(subject, sender=sender, recipients=recipients)\n",
      "    msg.body = text_body\n",
      "    msg.html = html_body\n",
      "    mail.send(msg)\n",
      "    \n",
      "def follower_notification(followed, follower):\n",
      "    send_email(\"[microblog] %s is now following you!\" % follower.nickname,\n",
      "               ADMINS[0],\n",
      "               [followed.email],\n",
      "               render_template(\"follower_email.txt\", \n",
      "                               user=followed, follower=follower),\n",
      "               render_template(\"follower_email.html\", \n",
      "                               user=followed, follower=follower))"
     ],
     "language": "python",
     "metadata": {},
     "outputs": [
      {
       "output_type": "stream",
       "stream": "stdout",
       "text": [
        "Overwriting app/emails.py\n"
       ]
      }
     ],
     "prompt_number": 44
    },
    {
     "cell_type": "code",
     "collapsed": false,
     "input": [
      "%%file app/momentjs.py\n",
      "from jinja2 import Markup\n",
      "\n",
      "class momentjs(object):\n",
      "    def __init__(self, timestamp):\n",
      "        self.timestamp = timestamp\n",
      "\n",
      "    def render(self, format):\n",
      "        return Markup(\"<script>\\ndocument.write(moment(\\\"%s\\\").%s);\\n</script>\" % (self.timestamp.strftime(\"%Y-%m-%dT%H:%M:%S Z\"), format))\n",
      "\n",
      "    def format(self, fmt):\n",
      "        return self.render(\"format(\\\"%s\\\")\" % fmt)\n",
      "\n",
      "    def calendar(self):\n",
      "        return self.render(\"calendar()\")\n",
      "\n",
      "    def fromNow(self):\n",
      "        return self.render(\"fromNow()\")"
     ],
     "language": "python",
     "metadata": {},
     "outputs": [
      {
       "output_type": "stream",
       "stream": "stdout",
       "text": [
        "Overwriting app/momentjs.py\n"
       ]
      }
     ],
     "prompt_number": 23
    },
    {
     "cell_type": "code",
     "collapsed": false,
     "input": [
      "%%file run.py\n",
      "#!/Users/DboyLiao/.pyenv/versions/flask_py278/bin/python\n",
      "\n",
      "from app import app\n",
      "app.run(debug = True, port = 8888)"
     ],
     "language": "python",
     "metadata": {},
     "outputs": [
      {
       "output_type": "stream",
       "stream": "stdout",
       "text": [
        "Overwriting run.py\n"
       ]
      }
     ],
     "prompt_number": 12
    },
    {
     "cell_type": "code",
     "collapsed": false,
     "input": [
      "os.getcwd()"
     ],
     "language": "python",
     "metadata": {},
     "outputs": [
      {
       "metadata": {},
       "output_type": "pyout",
       "prompt_number": 11,
       "text": [
        "'/Users/DboyLiao/Documents/Python_Learning/flask_Learn/flask_mega'"
       ]
      }
     ],
     "prompt_number": 11
    },
    {
     "cell_type": "code",
     "collapsed": false,
     "input": [
      "os.system(\"./run.py&\")"
     ],
     "language": "python",
     "metadata": {},
     "outputs": [
      {
       "metadata": {},
       "output_type": "pyout",
       "prompt_number": 63,
       "text": [
        "0"
       ]
      }
     ],
     "prompt_number": 63
    },
    {
     "cell_type": "markdown",
     "metadata": {},
     "source": [
      "---"
     ]
    },
    {
     "cell_type": "markdown",
     "metadata": {},
     "source": [
      "# Templates"
     ]
    },
    {
     "cell_type": "code",
     "collapsed": false,
     "input": [
      "%%file app/templates/index.html\n",
      "<html>\n",
      "  <head>\n",
      "    {% if title %}\n",
      "    <title>{{ title }} - microblog</title>\n",
      "    {% else %}\n",
      "    <title>Welcome to microblog</title>\n",
      "    {% endif %}\n",
      "  </head>\n",
      "  <body>\n",
      "    <h1>Hi, {{ user.nickname }}!</h1>\n",
      "    {% for post in posts %}\n",
      "    <p>{{ post.author.nickname }} says: <b>{{ post.body }}</b></p>\n",
      "    {% endfor %}\n",
      "  </body>\n",
      "</html>"
     ],
     "language": "python",
     "metadata": {},
     "outputs": [
      {
       "output_type": "stream",
       "stream": "stdout",
       "text": [
        "Overwriting app/templates/index.html\n"
       ]
      }
     ],
     "prompt_number": 19
    },
    {
     "cell_type": "code",
     "collapsed": false,
     "input": [
      "%%file app/templates/login.html \n",
      "<!-- extend base layout -->\n",
      "{% extends \"base.html\" %}\n",
      "\n",
      "{% block content %}\n",
      "    <script type=\"text/javascript\">\n",
      "    function set_openid(openid, pr)\n",
      "    {\n",
      "        u = openid.search('<username>');\n",
      "        if (u != -1) {\n",
      "            // openid requires username\n",
      "            user = prompt('Enter your ' + pr + ' username:');\n",
      "            openid = openid.substr(0, u) + user;\n",
      "        }\n",
      "        form = document.forms['login'];\n",
      "        form.elements['openid'].value = openid;\n",
      "    }\n",
      "    </script>\n",
      "    {% include 'flash.html' %}\n",
      "    <div class=\"well\">\n",
      "        <h3>{{ _('Please Sign In') }}</h3>\n",
      "        <form class=\"form\" action=\"\" method=\"post\" name=\"login\">\n",
      "            {{ form.hidden_tag() }}\n",
      "            <div class=\"help-block\">{{ _('Click on your OpenID provider below:') }}</div>\n",
      "            <div class=\"control-group\">\n",
      "                {% for pr in providers %}\n",
      "                <a href=\"javascript:set_openid('{{ pr.url }}', '{{ pr.name }}');\"><img src=\"/static/img/{{ pr.name.lower() }}.png\" class=\"img-polaroid\" style=\"margin:2px;\" /></a>\n",
      "                {% endfor %}\n",
      "            </div>\n",
      "            <div class=\"control-group{% if form.openid.errors %} error{% endif %}\">\n",
      "                <label class=\"control-label\" for=\"openid\">{{ _('Or enter your OpenID here:') }}</label>\n",
      "                <div class=\"controls\">\n",
      "                    {{ form.openid(size=80, class=\"span4\") }}\n",
      "                    {% for error in form.openid.errors %}\n",
      "                        <span class=\"help-inline\">[{{ error }}]</span><br>\n",
      "                    {% endfor %}\n",
      "                </div>\n",
      "            </div>\n",
      "            <div class=\"control-group\">\n",
      "                <div class=\"controls\">\n",
      "                    <label class=\"checkbox\" for=\"remember_me\">\n",
      "                        {{ form.remember_me }} {{ _('Remember Me') }}\n",
      "                    </label>\n",
      "                </div>\n",
      "            </div>\n",
      "            <div class=\"control-group\">\n",
      "                <div class=\"controls\">\n",
      "                    <input class=\"btn btn-primary\" type=\"submit\" value=\"{{ _('Sign In') }}\">\n",
      "                </div>\n",
      "            </div>\n",
      "        </form>\n",
      "    </div>\n",
      "{% endblock %}"
     ],
     "language": "python",
     "metadata": {},
     "outputs": [
      {
       "output_type": "stream",
       "stream": "stdout",
       "text": [
        "Overwriting app/templates/login.html\n"
       ]
      }
     ],
     "prompt_number": 57
    },
    {
     "cell_type": "code",
     "collapsed": false,
     "input": [],
     "language": "python",
     "metadata": {},
     "outputs": []
    },
    {
     "cell_type": "markdown",
     "metadata": {},
     "source": [
      "## Template Inheritance"
     ]
    },
    {
     "cell_type": "code",
     "collapsed": false,
     "input": [
      "%%file app/templates/base.html\n",
      "<!DOCTYPE html>\n",
      "<html>\n",
      "  <head>\n",
      "    {% if title %}\n",
      "    <title>{{ title }} - microblog</title>\n",
      "    {% else %}\n",
      "    <title>microblog</title>\n",
      "    {% endif %}\n",
      "    <link href=\"/static/css/bootstrap.min.css\" rel=\"stylesheet\" media=\"screen\">\n",
      "    <link href=\"/static/css/bootstrap-responsive.min.css\" rel=\"stylesheet\">\n",
      "    <script src=\"http://code.jquery.com/jquery-latest.js\"></script>\n",
      "    <script src=\"/static/js/bootstrap.min.js\"></script>\n",
      "    <script src=\"/static/js/moment.min.js\"></script>\n",
      "    <meta name=\"viewport\" content=\"width=device-width, initial-scale=1.0\">\n",
      "  </head>\n",
      "  <body>\n",
      "    <div class=\"container\">\n",
      "      <div class=\"navbar\">\n",
      "        <div class=\"navbar-inner\">\n",
      "          <a class=\"btn btn-navbar\" data-toggle=\"collapse\" data-target=\".nav-collapse\">\n",
      "            <span class=\"icon-bar\"></span>\n",
      "            <span class=\"icon-bar\"></span>\n",
      "            <span class=\"icon-bar\"></span>\n",
      "          </a>\n",
      "          <a class=\"brand\" href=\"/\">microblog</a>\n",
      "            <ul class=\"nav\">\n",
      "              <li><a href=\"{{ url_for('index') }}\">{{gettext('Home')}}</a></li>\n",
      "              {% if g.user.is_authenticated() %}\n",
      "              <li><a href=\"{{ url_for('user', nickname=g.user.nickname) }}\">Your Profile</a></li>\n",
      "              <li><a href=\"{{ url_for('logout') }}\">Logout</a></li>\n",
      "              {% endif %}\n",
      "            </ul>\n",
      "          <div class=\"nav-collapse collapse\">\n",
      "            {% if g.user.is_authenticated() %}\n",
      "            <form class=\"navbar-search pull-right\" action=\"{{ url_for('search') }}\" method=\"post\" name=\"search\">{{ g.search_form.hidden_tag() }}{{ g.search_form.search(size=20, placeholder=\"Search\", class=\"search-query\") }}</form>\n",
      "            {% endif %}\n",
      "          </div>\n",
      "        </div>\n",
      "      </div>\n",
      "      <div class=\"row\">\n",
      "        <div class=\"span12\">\n",
      "          {% block content %}\n",
      "          {% endblock %}\n",
      "        </div>\n",
      "      </div>\n",
      "    </div>   \n",
      "  </body>\n",
      "</html>"
     ],
     "language": "python",
     "metadata": {},
     "outputs": [
      {
       "output_type": "stream",
       "stream": "stdout",
       "text": [
        "Overwriting app/templates/base.html\n"
       ]
      }
     ],
     "prompt_number": 46
    },
    {
     "cell_type": "code",
     "collapsed": false,
     "input": [
      "%%file app/templates/index_block.html\n",
      "<!-- extend base layout -->\n",
      "{% extends \"base.html\" %}\n",
      "\n",
      "{% block content %}\n",
      "    <h1>{{ _('Hi, %(nickname)s!', nickname=g.user.nickname) }}</h1>\n",
      "    {% include 'flash.html' %}\n",
      "    <div class=\"well\">\n",
      "        <form class=\"form-horizontal\" action=\"\" method=\"post\" name=\"post\">\n",
      "            {{ form.hidden_tag() }}\n",
      "            <div class=\"control-group{% if form.post.errors %} error{% endif %}\">\n",
      "                <label class=\"control-label\" for=\"post\">{{ _('Say something:') }}</label>\n",
      "                <div class=\"controls\">\n",
      "                    {{ form.post(size=30, maxlength=140) }}\n",
      "                    {% for error in form.post.errors %}\n",
      "                        <span class=\"help-inline\">[{{ error }}]</span><br>\n",
      "                    {% endfor %}\n",
      "                </div>\n",
      "            </div>\n",
      "            <div class=\"control-group\">\n",
      "                <div class=\"controls\">\n",
      "                    <input class=\"btn btn-primary\" type=\"submit\" value=\"{{ _('Post!') }}\">\n",
      "                </div>\n",
      "            </div>\n",
      "        </form>\n",
      "    </div>\n",
      "    {% for post in posts.items %}\n",
      "        {% include 'post.html' %}\n",
      "    {% endfor %}\n",
      "    <ul class=\"pager\">\n",
      "        {% if posts.has_prev %}\n",
      "        <li class=\"previous\"><a href=\"{{ url_for('index', page=posts.prev_num) }}\">{{ _('Newer posts') }}</a></li>\n",
      "        {% else %}\n",
      "        <li class=\"previous disabled\"><a href=\"#\">{{ _('Newer posts') }}</a></li>\n",
      "        {% endif %}\n",
      "        {% if posts.has_next %}\n",
      "        <li class=\"next\"><a href=\"{{ url_for('index', page=posts.next_num) }}\">{{ _('Older posts') }}</a></li>\n",
      "        {% else %}\n",
      "        <li class=\"next disabled\"><a href=\"#\">{{ _('Older posts') }}</a></li>\n",
      "        {% endif %}\n",
      "    </ul>\n",
      "{% endblock %}"
     ],
     "language": "python",
     "metadata": {},
     "outputs": [
      {
       "output_type": "stream",
       "stream": "stdout",
       "text": [
        "Overwriting app/templates/index_block.html\n"
       ]
      }
     ],
     "prompt_number": 58
    },
    {
     "cell_type": "code",
     "collapsed": false,
     "input": [
      "%%file app/templates/user.html\n",
      "<!-- extend base layout -->\n",
      "{% extends \"base.html\" %}\n",
      "\n",
      "{% block content %}\n",
      "    {% include 'flash.html' %}\n",
      "    <div class=\"well well-large\" style=\"height: 140px;\">\n",
      "        <div class=\"pull-right\">\n",
      "            <img src=\"{{ user.avatar(128) }}\" class=\"img-polaroid\">\n",
      "        </div>\n",
      "        <h1>{{ user.nickname }}</h1>\n",
      "        {% if user.about_me %}<p>{{ user.about_me }}</p>{% endif %}\n",
      "        {% if user.last_seen %}\n",
      "        <p><em>{{ _('Last seen:') }} {{ momentjs(user.last_seen).calendar() }}</em></p>\n",
      "        {% endif %}\n",
      "        <p>{{ _('Followers:') }} {{ user.followers.count() - 1 }} | {{ _('Following:') }} {{ user.followed.count() - 1 }} |\n",
      "        {% if user.id == g.user.id %}\n",
      "            <a href=\"{{ url_for('edit', nickname = user.nickname) }}\">{{ gettext('Edit your profile') }}</a>\n",
      "        {% elif not g.user.is_following(user) %}\n",
      "            <a href=\"{{ url_for('follow', nickname=user.nickname) }}\">{{ _('Follow') }}</a>\n",
      "        {% else %}\n",
      "            <a href=\"{{ url_for('unfollow', nickname=user.nickname) }}\">{{ _('Unfollow') }}</a>\n",
      "        {% endif %}\n",
      "        </p>\n",
      "    </div>\n",
      "    {% for post in posts.items %}\n",
      "        {% include 'post.html' %}\n",
      "    {% endfor %}\n",
      "    <ul class=\"pager\">\n",
      "        {% if posts.has_prev %}\n",
      "        <li class=\"previous\"><a href=\"{{ url_for('user', nickname=user.nickname, page=posts.prev_num) }}\">{{ _('Newer posts') }}</a></li>\n",
      "        {% else %}\n",
      "        <li class=\"previous disabled\"><a href=\"#\">{{ _('Newer posts') }}</a></li>\n",
      "        {% endif %}\n",
      "        {% if posts.has_next %}\n",
      "        <li class=\"next\"><a href=\"{{ url_for('user', nickname=user.nickname, page=posts.next_num) }}\">{{ _('Older posts') }}</a></li>\n",
      "        {% else %}\n",
      "        <li class=\"next disabled\"><a href=\"#\">{{ _('Older posts') }}</a></li>\n",
      "        {% endif %}\n",
      "    </ul>\n",
      "{% endblock %}"
     ],
     "language": "python",
     "metadata": {},
     "outputs": [
      {
       "output_type": "stream",
       "stream": "stdout",
       "text": [
        "Overwriting app/templates/user.html\n"
       ]
      }
     ],
     "prompt_number": 64
    },
    {
     "cell_type": "code",
     "collapsed": false,
     "input": [
      "%%file app/templates/post.html\n",
      "<table class=\"table table-hover\">\n",
      "    <tr>\n",
      "        <td width=\"70px\"><a href=\"{{ url_for('user', nickname=post.author.nickname) }}\"><img src=\"{{ post.author.avatar(70) }}\" /></a></td>\n",
      "        <td>\n",
      "            {% autoescape false %}\n",
      "              <p>{{ _('%(nickname)s said %(when)s:', nickname = '<a href=\"%s\">%s</a>' % (url_for('user', nickname=post.author.nickname), post.author.nickname), when=momentjs(post.timestamp).fromNow()) }}</p>\n",
      "            {% endautoescape %}\n",
      "            <p><strong>{{ post.body }}</strong></p>\n",
      "        </td>\n",
      "    </tr>\n",
      "</table>"
     ],
     "language": "python",
     "metadata": {},
     "outputs": [
      {
       "output_type": "stream",
       "stream": "stdout",
       "text": [
        "Overwriting app/templates/post.html\n"
       ]
      }
     ],
     "prompt_number": 66
    },
    {
     "cell_type": "code",
     "collapsed": false,
     "input": [
      "%%file app/templates/edit.html\n",
      "<!-- extend base layout -->\n",
      "{% extends \"base.html\" %}\n",
      "\n",
      "{% block content %}\n",
      "  <h1>Edit Your Profile</h1>\n",
      "  <form action=\"\" method=\"post\" name=\"edit\">\n",
      "      {{form.hidden_tag()}}\n",
      "      <table>\n",
      "          <tr>\n",
      "              <td>Your nickname:</td>\n",
      "              <td>\n",
      "                {{ form.nickname(size=24) }}\n",
      "                {% for error in form.nickname.errors %}\n",
      "                <br>\n",
      "                <span style=\"color: red;\">[{{ error }}]</span>\n",
      "                {% endfor %}\n",
      "              </td>\n",
      "          </tr>\n",
      "          <tr>\n",
      "              <td>About yourself:</td>\n",
      "              <td>{{ form.about_me(cols=32, rows=4) }}</td>\n",
      "          </tr>\n",
      "          <tr>\n",
      "              <td></td>\n",
      "              <td><input type=\"submit\" value=\"Save Changes\"></td>\n",
      "          </tr>\n",
      "      </table>\n",
      "  </form>\n",
      "{% endblock %}"
     ],
     "language": "python",
     "metadata": {},
     "outputs": [
      {
       "output_type": "stream",
       "stream": "stdout",
       "text": [
        "Overwriting app/templates/edit.html\n"
       ]
      }
     ],
     "prompt_number": 170
    },
    {
     "cell_type": "code",
     "collapsed": false,
     "input": [
      "%%file app/templates/404.html\n",
      "<!-- extend base layout -->\n",
      "{% extends \"base.html\" %}\n",
      "\n",
      "{% block content %}\n",
      "  <h1>File Not Found</h1>\n",
      "  <p><a href=\"{{ url_for('index') }}\">Back</a></p>\n",
      "{% endblock %}"
     ],
     "language": "python",
     "metadata": {},
     "outputs": [
      {
       "output_type": "stream",
       "stream": "stdout",
       "text": [
        "Writing app/templates/404.html\n"
       ]
      }
     ],
     "prompt_number": 144
    },
    {
     "cell_type": "code",
     "collapsed": false,
     "input": [
      "%%file app/templates/500.html\n",
      "<!-- extend base layout -->\n",
      "{% extends \"base.html\" %}\n",
      "\n",
      "{% block content %}\n",
      "  <h1>An unexpected error has occurred</h1>\n",
      "  <p>The administrator has been notified. Sorry for the inconvenience!</p>\n",
      "  <p><a href=\"{{ url_for('index') }}\">Back</a></p>\n",
      "{% endblock %}"
     ],
     "language": "python",
     "metadata": {},
     "outputs": [
      {
       "output_type": "stream",
       "stream": "stdout",
       "text": [
        "Writing app/templates/500.html\n"
       ]
      }
     ],
     "prompt_number": 145
    },
    {
     "cell_type": "code",
     "collapsed": false,
     "input": [
      "%%file app/templates/search_results.html\n",
      "<!-- extend base layout -->\n",
      "{% extends \"base.html\" %}\n",
      "\n",
      "{% block content %}\n",
      "  <h1>Search results for \"{{ query }}\":</h1>\n",
      "  {% for post in results %}\n",
      "      {% include 'post.html' %}\n",
      "  {% endfor %}\n",
      "{% endblock %}"
     ],
     "language": "python",
     "metadata": {},
     "outputs": [
      {
       "output_type": "stream",
       "stream": "stdout",
       "text": [
        "Writing app/templates/search_results.html\n"
       ]
      }
     ],
     "prompt_number": 24
    },
    {
     "cell_type": "markdown",
     "metadata": {},
     "source": [
      "---"
     ]
    },
    {
     "cell_type": "markdown",
     "metadata": {},
     "source": [
      "# Email Templates"
     ]
    },
    {
     "cell_type": "code",
     "collapsed": false,
     "input": [
      "%%file app/templates/follower_email.txt\n",
      "Dear {{ user.nickname }},\n",
      "\n",
      "{{ follower.nickname }} is now a follower. Click on the following link to visit {{ follower.nickname }}'s profile page:\n",
      "\n",
      "{{ url_for('user', nickname=follower.nickname, _external=True) }}\n",
      "\n",
      "Regards,\n",
      "\n",
      "The microblog admin"
     ],
     "language": "python",
     "metadata": {},
     "outputs": [
      {
       "output_type": "stream",
       "stream": "stdout",
       "text": [
        "Writing app/templates/follower_email.txt\n"
       ]
      }
     ],
     "prompt_number": 37
    },
    {
     "cell_type": "code",
     "collapsed": false,
     "input": [
      "%%file app/templates/follower_email.html\n",
      "<p>Dear {{ user.nickname }},</p>\n",
      "<p><a href=\"{{ url_for('user', nickname=follower.nickname, _external=True) }}\">{{ follower.nickname }}</a> is now a follower.</p>\n",
      "<table>\n",
      "    <tr valign=\"top\">\n",
      "        <td><img src=\"{{ follower.avatar(50) }}\"></td>\n",
      "        <td>\n",
      "            <a href=\"{{ url_for('user', nickname=follower.nickname, _external=True) }}\">{{ follower.nickname }}</a><br />\n",
      "            {{ follower.about_me }}\n",
      "        </td>\n",
      "    </tr>\n",
      "</table>\n",
      "<p>Regards,</p>\n",
      "<p>The <code>microblog</code> admin</p>"
     ],
     "language": "python",
     "metadata": {},
     "outputs": [
      {
       "output_type": "stream",
       "stream": "stdout",
       "text": [
        "Overwriting app/templates/follower_email.html\n"
       ]
      }
     ],
     "prompt_number": 9
    },
    {
     "cell_type": "code",
     "collapsed": false,
     "input": [],
     "language": "python",
     "metadata": {},
     "outputs": []
    },
    {
     "cell_type": "markdown",
     "metadata": {},
     "source": [
      "---"
     ]
    },
    {
     "cell_type": "markdown",
     "metadata": {},
     "source": [
      "# Configuration"
     ]
    },
    {
     "cell_type": "code",
     "collapsed": false,
     "input": [
      "%%file config.py\n",
      "# -*- coding: utf-8 -*-\n",
      "import os\n",
      "basedir = os.path.abspath(os.path.dirname(__file__))\n",
      "\n",
      "SQLALCHEMY_DATABASE_URI = 'sqlite:///' + os.path.join(basedir, 'app.db')\n",
      "SQLALCHEMY_MIGRATE_REPO = os.path.join(basedir, 'db_repository')\n",
      "\n",
      "WTF_CSRF_ENABLED = True\n",
      "SECRET_KEY = 'you-will-never-guess'\n",
      "\n",
      "OPENID_PROVIDERS = [\n",
      "    {'name': 'Google', 'url': 'https://www.google.com/accounts/o8/id'},\n",
      "    {'name': 'Yahoo', 'url': 'https://me.yahoo.com'},\n",
      "    {'name': 'AOL', 'url': 'http://openid.aol.com/<username>'},\n",
      "    {'name': 'Flickr', 'url': 'http://www.flickr.com/<username>'},\n",
      "    {'name': 'MyOpenID', 'url': 'https://www.myopenid.com'}]\n",
      "\n",
      "POSTS_PER_PAGE = 3\n",
      "WHOOSH_BASE = os.path.join(basedir, 'search.db')\n",
      "MAX_SEARCH_RESULTS = 50\n",
      "\n",
      "# email server\n",
      "MAIL_SERVER = 'smtp.googlemail.com'\n",
      "MAIL_PORT = 465\n",
      "MAIL_USE_TLS = False\n",
      "MAIL_USE_SSL = True\n",
      "#MAIL_USERNAME = os.environ.get('MAIL_USERNAME')\n",
      "#MAIL_PASSWORD = os.environ.get('MAIL_PASSWORD')\n",
      "MAIL_USERNAME = \"qmalliao\"\n",
      "MAIL_PASSWORD = \"3690Qmal@gmail\"\n",
      "\n",
      "# administrator list\n",
      "ADMINS = ['qmalliao@gmail.com']\n",
      "\n",
      "# available languages\n",
      "LANGUAGES = {\n",
      "    'en': u'English',\n",
      "    'es': u'Espa\u00f1ol'\n",
      "}"
     ],
     "language": "python",
     "metadata": {},
     "outputs": [
      {
       "output_type": "stream",
       "stream": "stdout",
       "text": [
        "Overwriting config.py\n"
       ]
      }
     ],
     "prompt_number": 53
    },
    {
     "cell_type": "code",
     "collapsed": false,
     "input": [
      "%%file babel.cfg\n",
      "[python: **.py]\n",
      "[jinja2: **/templates/**.html]\n",
      "extensions=jinja2.ext.autoescape,jinja2.ext.with_"
     ],
     "language": "python",
     "metadata": {},
     "outputs": [
      {
       "output_type": "stream",
       "stream": "stdout",
       "text": [
        "Writing babel.cfg\n"
       ]
      }
     ],
     "prompt_number": 44
    },
    {
     "cell_type": "code",
     "collapsed": false,
     "input": [],
     "language": "python",
     "metadata": {},
     "outputs": []
    },
    {
     "cell_type": "markdown",
     "metadata": {},
     "source": [
      "# Database"
     ]
    },
    {
     "cell_type": "code",
     "collapsed": false,
     "input": [
      "%%file app/models.py\n",
      "from app import db, app\n",
      "from hashlib import md5\n",
      "import sys\n",
      "\n",
      "if sys.version_info >= (3, 0):\n",
      "    enable_search = False\n",
      "else:\n",
      "    enable_search = True\n",
      "    import flask.ext.whooshalchemy as whooshalchemy\n",
      "\n",
      "followers = db.Table(\n",
      "    'followers',\n",
      "    db.Column('follower_id', db.Integer, db.ForeignKey('user.id')),\n",
      "    db.Column('followed_id', db.Integer, db.ForeignKey('user.id'))\n",
      ")\n",
      "\n",
      "class User(db.Model):\n",
      "    \n",
      "    id = db.Column(db.Integer, primary_key=True)\n",
      "    nickname = db.Column(db.String(64), index=True, unique = True)\n",
      "    email = db.Column(db.String(120), index=True, unique=True)\n",
      "    # The backref argument defines a field that will be added to the objects of the \"many\" class \n",
      "    # that points back at the \"one\" object. In our case this means that we can use post.author \n",
      "    # to get the User instance that created a post.\n",
      "    posts = db.relationship('Post', backref='author', lazy='dynamic')\n",
      "    about_me = db.Column(db.String(140))\n",
      "    last_seen = db.Column(db.DateTime)\n",
      "    followed = db.relationship('User', \n",
      "                               secondary=followers, \n",
      "                               primaryjoin=(followers.c.follower_id == id), \n",
      "                               secondaryjoin=(followers.c.followed_id == id), \n",
      "                               backref=db.backref('followers', lazy='dynamic'), \n",
      "                               lazy='dynamic')\n",
      "\n",
      "    def is_authenticated(self):\n",
      "        return True\n",
      "\n",
      "    def is_active(self):\n",
      "        return True\n",
      "\n",
      "    def is_anonymous(self):\n",
      "        return False\n",
      "\n",
      "    def get_id(self):\n",
      "        try:\n",
      "            return unicode(self.id)  # python 2\n",
      "        except NameError:\n",
      "            return str(self.id)  # python 3 has no unicode module which will cause a NameError.\n",
      "    def avatar(self, size):\n",
      "        return 'http://www.gravatar.com/avatar/%s?d=mm&s=%d' % (md5(self.email.encode('utf-8')).hexdigest(), size)\n",
      "    \n",
      "    @staticmethod\n",
      "    def make_unique_nickname(nickname):\n",
      "        if User.query.filter_by(nickname=nickname).first() is None:\n",
      "            return nickname\n",
      "        version = 2\n",
      "        while True:\n",
      "            new_nickname = nickname + str(version)\n",
      "            if User.query.filter_by(nickname=new_nickname).first() is None:\n",
      "                break\n",
      "            version += 1\n",
      "        return new_nickname\n",
      "    \n",
      "    def follow(self, user):\n",
      "        if not self.is_following(user):\n",
      "            self.followed.append(user)\n",
      "            return self\n",
      "\n",
      "    def unfollow(self, user):\n",
      "        if self.is_following(user):\n",
      "            self.followed.remove(user)\n",
      "            return self\n",
      "\n",
      "    def is_following(self, user):\n",
      "        return self.followed.filter(followers.c.followed_id == user.id).count() > 0\n",
      "    \n",
      "    def followed_posts(self):\n",
      "        return Post.query.join(followers,\n",
      "                               (followers.c.followed_id == Post.user_id)).filter(followers.c.follower_id == self.id).order_by(Post.timestamp.desc())\n",
      "\n",
      "    def __repr__(self):\n",
      "        return '<User %r>' % (self.nickname)\n",
      "\n",
      "class Post(db.Model):\n",
      "    __searchable__ = [\"body\"]\n",
      "    \n",
      "    \n",
      "    id = db.Column(db.Integer, primary_key = True)\n",
      "    body = db.Column(db.String(140))\n",
      "    timestamp = db.Column(db.DateTime)\n",
      "    user_id = db.Column(db.Integer, db.ForeignKey('user.id'))\n",
      "\n",
      "    def __repr__(self):\n",
      "        return '<Post %r>' % (self.body)\n",
      "\n",
      "if enable_search:\n",
      "    whooshalchemy.whoosh_index(app, Post)"
     ],
     "language": "python",
     "metadata": {},
     "outputs": [
      {
       "output_type": "stream",
       "stream": "stdout",
       "text": [
        "Overwriting app/models.py\n"
       ]
      }
     ],
     "prompt_number": 18
    },
    {
     "cell_type": "code",
     "collapsed": false,
     "input": [
      "%%file db_create.py\n",
      "#!/Users/DboyLiao/.pyenv/versions/flask_py278/bin/python\n",
      "from migrate.versioning import api\n",
      "from config import SQLALCHEMY_DATABASE_URI\n",
      "from config import SQLALCHEMY_MIGRATE_REPO\n",
      "from app import db\n",
      "\n",
      "import os.path\n",
      "db.create_all()\n",
      "if not os.path.exists(SQLALCHEMY_MIGRATE_REPO):\n",
      "    api.create(SQLALCHEMY_MIGRATE_REPO, 'database repository')\n",
      "    api.version_control(SQLALCHEMY_DATABASE_URI, SQLALCHEMY_MIGRATE_REPO)\n",
      "else:\n",
      "    api.version_control(SQLALCHEMY_DATABASE_URI, SQLALCHEMY_MIGRATE_REPO, api.version(SQLALCHEMY_MIGRATE_REPO))"
     ],
     "language": "python",
     "metadata": {},
     "outputs": [
      {
       "output_type": "stream",
       "stream": "stdout",
       "text": [
        "Overwriting db_create.py\n"
       ]
      }
     ],
     "prompt_number": 18
    },
    {
     "cell_type": "code",
     "collapsed": false,
     "input": [
      "os.system(\"./db_create.py\")"
     ],
     "language": "python",
     "metadata": {},
     "outputs": [
      {
       "metadata": {},
       "output_type": "pyout",
       "prompt_number": 19,
       "text": [
        "0"
       ]
      }
     ],
     "prompt_number": 19
    },
    {
     "cell_type": "code",
     "collapsed": false,
     "input": [
      "%%file db_migrate.py\n",
      "#!/Users/DboyLiao/.pyenv/versions/flask_py278/bin/python\n",
      "import imp\n",
      "from migrate.versioning import api\n",
      "from app import db\n",
      "from config import SQLALCHEMY_DATABASE_URI\n",
      "from config import SQLALCHEMY_MIGRATE_REPO\n",
      "\n",
      "version = api.db_version(SQLALCHEMY_DATABASE_URI, SQLALCHEMY_MIGRATE_REPO)\n",
      "migration = SQLALCHEMY_MIGRATE_REPO + ('/versions/%03d_migration.py' % (version+1))\n",
      "tmp_module = imp.new_module('old_model')\n",
      "old_model = api.create_model(SQLALCHEMY_DATABASE_URI, SQLALCHEMY_MIGRATE_REPO)\n",
      "exec(old_model, tmp_module.__dict__)\n",
      "script = api.make_update_script_for_model(SQLALCHEMY_DATABASE_URI, SQLALCHEMY_MIGRATE_REPO, tmp_module.meta, db.metadata)\n",
      "open(migration, \"wt\").write(script)\n",
      "api.upgrade(SQLALCHEMY_DATABASE_URI, SQLALCHEMY_MIGRATE_REPO)\n",
      "version = api.db_version(SQLALCHEMY_DATABASE_URI, SQLALCHEMY_MIGRATE_REPO)\n",
      "print('New migration saved as ' + migration)\n",
      "print('Current database version: ' + str(version))"
     ],
     "language": "python",
     "metadata": {},
     "outputs": [
      {
       "output_type": "stream",
       "stream": "stdout",
       "text": [
        "Overwriting db_migrate.py\n"
       ]
      }
     ],
     "prompt_number": 3
    },
    {
     "cell_type": "code",
     "collapsed": false,
     "input": [
      "os.system(\"./db_migrate.py\")"
     ],
     "language": "python",
     "metadata": {},
     "outputs": [
      {
       "metadata": {},
       "output_type": "pyout",
       "prompt_number": 11,
       "text": [
        "0"
       ]
      }
     ],
     "prompt_number": 11
    },
    {
     "cell_type": "code",
     "collapsed": false,
     "input": [
      "%%file db_upgrade.py\n",
      "#!/Users/DboyLiao/.pyenv/versions/flask_py278/bin/python\n",
      "from migrate.versioning import api\n",
      "from config import SQLALCHEMY_DATABASE_URI\n",
      "from config import SQLALCHEMY_MIGRATE_REPO\n",
      "api.upgrade(SQLALCHEMY_DATABASE_URI, SQLALCHEMY_MIGRATE_REPO)\n",
      "v = api.db_version(SQLALCHEMY_DATABASE_URI, SQLALCHEMY_MIGRATE_REPO)\n",
      "print('Current database version: ' + str(v))"
     ],
     "language": "python",
     "metadata": {},
     "outputs": [
      {
       "output_type": "stream",
       "stream": "stdout",
       "text": [
        "Overwriting db_upgrade.py\n"
       ]
      }
     ],
     "prompt_number": 33
    },
    {
     "cell_type": "code",
     "collapsed": false,
     "input": [
      "os.system(\"chmod a+x db_upgrade.py\")"
     ],
     "language": "python",
     "metadata": {},
     "outputs": [
      {
       "metadata": {},
       "output_type": "pyout",
       "prompt_number": 31,
       "text": [
        "0"
       ]
      }
     ],
     "prompt_number": 31
    },
    {
     "cell_type": "code",
     "collapsed": false,
     "input": [
      "os.system(\"./db_upgrade.py\")"
     ],
     "language": "python",
     "metadata": {},
     "outputs": [
      {
       "metadata": {},
       "output_type": "pyout",
       "prompt_number": 211,
       "text": [
        "0"
       ]
      }
     ],
     "prompt_number": 211
    },
    {
     "cell_type": "code",
     "collapsed": false,
     "input": [
      "%%file db_downgrade.py\n",
      "#!/Users/DboyLiao/.pyenv/versions/flask_py278/bin/python\n",
      "from migrate.versioning import api\n",
      "from config import SQLALCHEMY_DATABASE_URI\n",
      "from config import SQLALCHEMY_MIGRATE_REPO\n",
      "v = api.db_version(SQLALCHEMY_DATABASE_URI, SQLALCHEMY_MIGRATE_REPO)\n",
      "api.downgrade(SQLALCHEMY_DATABASE_URI, SQLALCHEMY_MIGRATE_REPO, v - 1)\n",
      "v = api.db_version(SQLALCHEMY_DATABASE_URI, SQLALCHEMY_MIGRATE_REPO)\n",
      "print('Current database version: ' + str(v))"
     ],
     "language": "python",
     "metadata": {},
     "outputs": [
      {
       "output_type": "stream",
       "stream": "stdout",
       "text": [
        "Writing db_downgrade.py\n"
       ]
      }
     ],
     "prompt_number": 35
    },
    {
     "cell_type": "code",
     "collapsed": true,
     "input": [
      "os.system(\"chmod a+x db_downgrade.py\")"
     ],
     "language": "python",
     "metadata": {},
     "outputs": [
      {
       "metadata": {},
       "output_type": "pyout",
       "prompt_number": 36,
       "text": [
        "0"
       ]
      }
     ],
     "prompt_number": 36
    },
    {
     "cell_type": "code",
     "collapsed": true,
     "input": [
      "os.system(\"./db_downgrade.py\")"
     ],
     "language": "python",
     "metadata": {},
     "outputs": [
      {
       "metadata": {},
       "output_type": "pyout",
       "prompt_number": 39,
       "text": [
        "0"
       ]
      }
     ],
     "prompt_number": 39
    },
    {
     "cell_type": "markdown",
     "metadata": {},
     "source": [
      "## Play with DB"
     ]
    },
    {
     "cell_type": "code",
     "collapsed": false,
     "input": [
      "from app import db, models"
     ],
     "language": "python",
     "metadata": {},
     "outputs": [],
     "prompt_number": 246
    },
    {
     "cell_type": "code",
     "collapsed": false,
     "input": [
      "test_user = models.User.query.filter_by(nickname=\"qmalliao\").all()[0]"
     ],
     "language": "python",
     "metadata": {},
     "outputs": [],
     "prompt_number": 264
    },
    {
     "cell_type": "code",
     "collapsed": false,
     "input": [
      "posts = test_user.followed_posts().all()"
     ],
     "language": "python",
     "metadata": {},
     "outputs": [
      {
       "ename": "AttributeError",
       "evalue": "'User' object has no attribute 'followed_posts'",
       "output_type": "pyerr",
       "traceback": [
        "\u001b[0;31m---------------------------------------------------------------------------\u001b[0m\n\u001b[0;31mAttributeError\u001b[0m                            Traceback (most recent call last)",
        "\u001b[0;32m<ipython-input-265-53eb52bc8661>\u001b[0m in \u001b[0;36m<module>\u001b[0;34m()\u001b[0m\n\u001b[0;32m----> 1\u001b[0;31m \u001b[0mposts\u001b[0m \u001b[0;34m=\u001b[0m \u001b[0mtest_user\u001b[0m\u001b[0;34m.\u001b[0m\u001b[0mfollowed_posts\u001b[0m\u001b[0;34m(\u001b[0m\u001b[0;34m)\u001b[0m\u001b[0;34m.\u001b[0m\u001b[0mall\u001b[0m\u001b[0;34m(\u001b[0m\u001b[0;34m)\u001b[0m\u001b[0;34m\u001b[0m\u001b[0m\n\u001b[0m",
        "\u001b[0;31mAttributeError\u001b[0m: 'User' object has no attribute 'followed_posts'"
       ]
      }
     ],
     "prompt_number": 265
    },
    {
     "cell_type": "code",
     "collapsed": false,
     "input": [],
     "language": "python",
     "metadata": {},
     "outputs": [
      {
       "output_type": "stream",
       "stream": "stdout",
       "text": [
        "<sqlalchemy.engine.result.ResultProxy object at 0x1067feb50>\n"
       ]
      }
     ],
     "prompt_number": 257
    },
    {
     "cell_type": "code",
     "collapsed": false,
     "input": [
      "users = models.User.query.all()"
     ],
     "language": "python",
     "metadata": {},
     "outputs": [],
     "prompt_number": 6
    },
    {
     "cell_type": "code",
     "collapsed": false,
     "input": [
      "users"
     ],
     "language": "python",
     "metadata": {},
     "outputs": [
      {
       "metadata": {},
       "output_type": "pyout",
       "prompt_number": 7,
       "text": [
        "[]"
       ]
      }
     ],
     "prompt_number": 7
    },
    {
     "cell_type": "code",
     "collapsed": false,
     "input": [
      "u1 = models.User(nickname='john', email='john@email.com')\n",
      "db.session.add(u1)\n",
      "u2 = models.User(nickname='susan', email='susan@email.com')\n",
      "db.session.add(u2)\n",
      "db.session.commit()"
     ],
     "language": "python",
     "metadata": {},
     "outputs": [],
     "prompt_number": 8
    },
    {
     "cell_type": "code",
     "collapsed": false,
     "input": [
      "users = models.User.query.all()"
     ],
     "language": "python",
     "metadata": {},
     "outputs": [],
     "prompt_number": 9
    },
    {
     "cell_type": "code",
     "collapsed": false,
     "input": [
      "users"
     ],
     "language": "python",
     "metadata": {},
     "outputs": [
      {
       "metadata": {},
       "output_type": "pyout",
       "prompt_number": 10,
       "text": [
        "[<User u'john'>, <User u'susan'>]"
       ]
      }
     ],
     "prompt_number": 10
    },
    {
     "cell_type": "code",
     "collapsed": false,
     "input": [
      "# db.session.delete(users[0])"
     ],
     "language": "python",
     "metadata": {},
     "outputs": [],
     "prompt_number": 65
    },
    {
     "cell_type": "code",
     "collapsed": false,
     "input": [
      "# db.session.commit()"
     ],
     "language": "python",
     "metadata": {},
     "outputs": [],
     "prompt_number": 66
    },
    {
     "cell_type": "code",
     "collapsed": false,
     "input": [
      "# db.session.rollback()"
     ],
     "language": "python",
     "metadata": {},
     "outputs": [],
     "prompt_number": 81
    },
    {
     "cell_type": "code",
     "collapsed": false,
     "input": [
      "for u in users:\n",
      "    print(u.id,u.nickname)\n",
      "unicode(users[0].id)"
     ],
     "language": "python",
     "metadata": {},
     "outputs": [
      {
       "output_type": "stream",
       "stream": "stdout",
       "text": [
        "(1, u'john')\n",
        "(2, u'susan')\n"
       ]
      },
      {
       "metadata": {},
       "output_type": "pyout",
       "prompt_number": 26,
       "text": [
        "u'1'"
       ]
      }
     ],
     "prompt_number": 26
    },
    {
     "cell_type": "code",
     "collapsed": false,
     "input": [
      "# query with id\n",
      "u = models.User.query.get(1)\n",
      "print u"
     ],
     "language": "python",
     "metadata": {},
     "outputs": [
      {
       "output_type": "stream",
       "stream": "stdout",
       "text": [
        "<User u'john'>\n"
       ]
      }
     ],
     "prompt_number": 12
    },
    {
     "cell_type": "code",
     "collapsed": false,
     "input": [
      "import datetime\n",
      "u = models.User.query.get(2)\n",
      "p = models.Post(body='my first post!', timestamp=datetime.datetime.utcnow(), author=u)\n",
      "db.session.add(p)\n",
      "db.session.commit()"
     ],
     "language": "python",
     "metadata": {},
     "outputs": [],
     "prompt_number": 13
    },
    {
     "cell_type": "code",
     "collapsed": false,
     "input": [
      "users = models.User.query.all()\n",
      "for user in users:\n",
      "    print user.posts.all()"
     ],
     "language": "python",
     "metadata": {},
     "outputs": [
      {
       "output_type": "stream",
       "stream": "stdout",
       "text": [
        "[]\n",
        "[<Post u'my first post!'>]\n"
       ]
      }
     ],
     "prompt_number": 14
    },
    {
     "cell_type": "code",
     "collapsed": false,
     "input": [
      "models.User.query.order_by('nickname desc').all()"
     ],
     "language": "python",
     "metadata": {},
     "outputs": [
      {
       "metadata": {},
       "output_type": "pyout",
       "prompt_number": 15,
       "text": [
        "[<User u'susan'>, <User u'john'>]"
       ]
      }
     ],
     "prompt_number": 15
    },
    {
     "cell_type": "code",
     "collapsed": false,
     "input": [
      "os.system(\"./db_upgrade.py\")"
     ],
     "language": "python",
     "metadata": {},
     "outputs": [
      {
       "metadata": {},
       "output_type": "pyout",
       "prompt_number": 16,
       "text": [
        "0"
       ]
      }
     ],
     "prompt_number": 16
    },
    {
     "cell_type": "code",
     "collapsed": false,
     "input": [],
     "language": "python",
     "metadata": {},
     "outputs": []
    },
    {
     "cell_type": "markdown",
     "metadata": {},
     "source": [
      "# Unit Test"
     ]
    },
    {
     "cell_type": "code",
     "collapsed": false,
     "input": [
      "%%file test.py\n",
      "#!/Users/DboyLiao/.pyenv/versions/flask_py278/bin/python\n",
      "import os\n",
      "import unittest\n",
      "\n",
      "from config import basedir\n",
      "from app import app, db\n",
      "from datetime import datetime, timedelta\n",
      "from app.models import User, Post\n",
      "\n",
      "class TestCase(unittest.TestCase):\n",
      "    def setUp(self):\n",
      "        app.config['TESTING'] = True\n",
      "        app.config['WTF_CSRF_ENABLED'] = False\n",
      "        app.config['SQLALCHEMY_DATABASE_URI'] = 'sqlite:///' + os.path.join(basedir, 'test.db')\n",
      "        self.app = app.test_client()\n",
      "        db.create_all()\n",
      "\n",
      "    def tearDown(self):\n",
      "        db.session.remove()\n",
      "        db.drop_all()\n",
      "\n",
      "    def test_avatar(self):\n",
      "        u = User(nickname='john', email='john@example.com')\n",
      "        avatar = u.avatar(128)\n",
      "        expected = 'http://www.gravatar.com/avatar/d4c74594d841139328695756648b6bd6'\n",
      "        assert avatar[0:len(expected)] == expected\n",
      "\n",
      "    def test_make_unique_nickname(self):\n",
      "        u = User(nickname='john', email='john@example.com')\n",
      "        db.session.add(u)\n",
      "        db.session.commit()\n",
      "        nickname = User.make_unique_nickname('john')\n",
      "        assert nickname != 'john'\n",
      "        u = User(nickname=nickname, email='susan@example.com')\n",
      "        db.session.add(u)\n",
      "        db.session.commit()\n",
      "        nickname2 = User.make_unique_nickname('john')\n",
      "        assert nickname2 != 'john'\n",
      "        assert nickname2 != nickname\n",
      "    \n",
      "    def test_follow(self):\n",
      "        u1 = User(nickname='john', email='john@example.com')\n",
      "        u2 = User(nickname='susan', email='susan@example.com')\n",
      "        db.session.add(u1)\n",
      "        db.session.add(u2)\n",
      "        db.session.commit()\n",
      "        assert u1.unfollow(u2) is None\n",
      "        u = u1.follow(u2)\n",
      "        db.session.add(u)\n",
      "        db.session.commit()\n",
      "        assert u1.follow(u2) is None\n",
      "        assert u1.is_following(u2)\n",
      "        assert u1.followed.count() == 1\n",
      "        assert u1.followed.first().nickname == 'susan'\n",
      "        assert u2.followers.count() == 1\n",
      "        assert u2.followers.first().nickname == 'john'\n",
      "        u = u1.unfollow(u2)\n",
      "        assert u is not None\n",
      "        db.session.add(u)\n",
      "        db.session.commit()\n",
      "        assert not u1.is_following(u2)\n",
      "        assert u1.followed.count() == 0\n",
      "        assert u2.followers.count() == 0\n",
      "    \n",
      "    def test_follow_posts(self):\n",
      "        # make four users\n",
      "        u1 = User(nickname='john', email='john@example.com')\n",
      "        u2 = User(nickname='susan', email='susan@example.com')\n",
      "        u3 = User(nickname='mary', email='mary@example.com')\n",
      "        u4 = User(nickname='david', email='david@example.com')\n",
      "        db.session.add(u1)\n",
      "        db.session.add(u2)\n",
      "        db.session.add(u3)\n",
      "        db.session.add(u4)\n",
      "        # make four posts\n",
      "        utcnow = datetime.utcnow()\n",
      "        p1 = Post(body=\"post from john\", author=u1, timestamp=utcnow + timedelta(seconds=1))\n",
      "        p2 = Post(body=\"post from susan\", author=u2, timestamp=utcnow + timedelta(seconds=2))\n",
      "        p3 = Post(body=\"post from mary\", author=u3, timestamp=utcnow + timedelta(seconds=3))\n",
      "        p4 = Post(body=\"post from david\", author=u4, timestamp=utcnow + timedelta(seconds=4))\n",
      "        db.session.add(p1)\n",
      "        db.session.add(p2)\n",
      "        db.session.add(p3)\n",
      "        db.session.add(p4)\n",
      "        db.session.commit()\n",
      "        # setup the followers\n",
      "        u1.follow(u1)  # john follows himself\n",
      "        u1.follow(u2)  # john follows susan\n",
      "        u1.follow(u4)  # john follows david\n",
      "        u2.follow(u2)  # susan follows herself\n",
      "        u2.follow(u3)  # susan follows mary\n",
      "        u3.follow(u3)  # mary follows herself\n",
      "        u3.follow(u4)  # mary follows david\n",
      "        u4.follow(u4)  # david follows himself\n",
      "        db.session.add(u1)\n",
      "        db.session.add(u2)\n",
      "        db.session.add(u3)\n",
      "        db.session.add(u4)\n",
      "        db.session.commit()\n",
      "        # check the followed posts of each user\n",
      "        f1 = u1.followed_posts().all()\n",
      "        f2 = u2.followed_posts().all()\n",
      "        f3 = u3.followed_posts().all()\n",
      "        f4 = u4.followed_posts().all()\n",
      "        assert len(f1) == 3\n",
      "        assert len(f2) == 2\n",
      "        assert len(f3) == 2\n",
      "        assert len(f4) == 1\n",
      "        assert f1 == [p4, p2, p1]\n",
      "        assert f2 == [p3, p2]\n",
      "        assert f3 == [p4, p3]\n",
      "        assert f4 == [p4]\n",
      "\n",
      "if __name__ == '__main__':\n",
      "    unittest.main()"
     ],
     "language": "python",
     "metadata": {},
     "outputs": [
      {
       "output_type": "stream",
       "stream": "stdout",
       "text": [
        "Overwriting test.py\n"
       ]
      }
     ],
     "prompt_number": 217
    },
    {
     "cell_type": "code",
     "collapsed": false,
     "input": [
      "os.system(\"chmod a+x test.py\")"
     ],
     "language": "python",
     "metadata": {},
     "outputs": [
      {
       "metadata": {},
       "output_type": "pyout",
       "prompt_number": 180,
       "text": [
        "0"
       ]
      }
     ],
     "prompt_number": 180
    },
    {
     "cell_type": "code",
     "collapsed": true,
     "input": [
      "!python test.py"
     ],
     "language": "python",
     "metadata": {},
     "outputs": [
      {
       "output_type": "stream",
       "stream": "stdout",
       "text": [
        "."
       ]
      },
      {
       "output_type": "stream",
       "stream": "stdout",
       "text": [
        "."
       ]
      },
      {
       "output_type": "stream",
       "stream": "stdout",
       "text": [
        "."
       ]
      },
      {
       "output_type": "stream",
       "stream": "stdout",
       "text": [
        ".\r\n",
        "----------------------------------------------------------------------\r\n",
        "Ran 4 tests in 0.271s\r\n",
        "\r\n",
        "OK\r\n"
       ]
      }
     ],
     "prompt_number": 221
    },
    {
     "cell_type": "code",
     "collapsed": false,
     "input": [],
     "language": "python",
     "metadata": {},
     "outputs": []
    },
    {
     "cell_type": "markdown",
     "metadata": {},
     "source": [
      "### Testing Area"
     ]
    },
    {
     "cell_type": "code",
     "collapsed": false,
     "input": [
      "print script"
     ],
     "language": "python",
     "metadata": {},
     "outputs": [
      {
       "output_type": "stream",
       "stream": "stdout",
       "text": [
        "from sqlalchemy import *\n",
        "from migrate import *\n",
        "\n",
        "\n",
        "from migrate.changeset import schema\n",
        "pre_meta = MetaData()\n",
        "post_meta = MetaData()\n",
        "\n",
        "def upgrade(migrate_engine):\n",
        "    # Upgrade operations go here. Don't create your own engine; bind\n",
        "    # migrate_engine to your metadata\n",
        "    pre_meta.bind = migrate_engine\n",
        "    post_meta.bind = migrate_engine\n",
        "\n",
        "\n",
        "def downgrade(migrate_engine):\n",
        "    # Operations to reverse the above upgrade go here.\n",
        "    pre_meta.bind = migrate_engine\n",
        "    post_meta.bind = migrate_engine\n",
        "\n"
       ]
      }
     ],
     "prompt_number": 40
    },
    {
     "cell_type": "code",
     "collapsed": false,
     "input": [
      "print old_model"
     ],
     "language": "python",
     "metadata": {},
     "outputs": [
      {
       "output_type": "stream",
       "stream": "stdout",
       "text": [
        "\n",
        "## File autogenerated by genmodel.py\n",
        "\n",
        "from sqlalchemy import *\n",
        "\n",
        "\n",
        "meta = MetaData()\n",
        "\n",
        "user = Table('user', meta,\n",
        "    Column('id', INTEGER, primary_key=True, nullable=False),\n",
        "    Column('nickname', VARCHAR(length=64)),\n",
        "    Column('email', VARCHAR(length=120)),\n",
        ")\n",
        "\n"
       ]
      }
     ],
     "prompt_number": 35
    },
    {
     "cell_type": "code",
     "collapsed": false,
     "input": [
      "from flask.ext.wtf import Form"
     ],
     "language": "python",
     "metadata": {},
     "outputs": [],
     "prompt_number": 30
    },
    {
     "cell_type": "code",
     "collapsed": false,
     "input": [
      "from flask import Flask"
     ],
     "language": "python",
     "metadata": {},
     "outputs": [],
     "prompt_number": 31
    },
    {
     "cell_type": "code",
     "collapsed": false,
     "input": [
      "app = Flask(\"app\")"
     ],
     "language": "python",
     "metadata": {},
     "outputs": [],
     "prompt_number": 32
    },
    {
     "cell_type": "code",
     "collapsed": false,
     "input": [
      "from flask.ext.wtf import Form\n",
      "from wtforms import StringField, BooleanField\n",
      "from wtforms.validators import DataRequired\n",
      "\n",
      "class LoginForm(Form):\n",
      "    openid = StringField('openid', validators=[DataRequired()])\n",
      "    remember_me = BooleanField('remember_me', default=False)"
     ],
     "language": "python",
     "metadata": {},
     "outputs": [],
     "prompt_number": 33
    },
    {
     "cell_type": "code",
     "collapsed": false,
     "input": [
      "print DataRequired.__doc__"
     ],
     "language": "python",
     "metadata": {},
     "outputs": [
      {
       "output_type": "stream",
       "stream": "stdout",
       "text": [
        "\n",
        "    Checks the field's data is 'truthy' otherwise stops the validation chain.\n",
        "\n",
        "    This validator checks that the ``data`` attribute on the field is a 'true'\n",
        "    value (effectively, it does ``if field.data``.) Furthermore, if the data\n",
        "    is a string type, a string containing only whitespace characters is\n",
        "    considered false.\n",
        "\n",
        "    If the data is empty, also removes prior errors (such as processing errors)\n",
        "    from the field.\n",
        "\n",
        "    **NOTE** this validator used to be called `Required` but the way it behaved\n",
        "    (requiring coerced data, not input data) meant it functioned in a way\n",
        "    which was not symmetric to the `Optional` validator and furthermore caused\n",
        "    confusion with certain fields which coerced data to 'falsey' values like\n",
        "    ``0``, ``Decimal(0)``, ``time(0)`` etc. Unless a very specific reason\n",
        "    exists, we recommend using the :class:`InputRequired` instead.\n",
        "\n",
        "    :param message:\n",
        "        Error message to raise in case of a validation error.\n",
        "    \n"
       ]
      }
     ],
     "prompt_number": 56
    },
    {
     "cell_type": "code",
     "collapsed": false,
     "input": [
      "from app import app"
     ],
     "language": "python",
     "metadata": {},
     "outputs": [],
     "prompt_number": 38
    },
    {
     "cell_type": "code",
     "collapsed": false,
     "input": [
      "import migrate.versioning.api as api"
     ],
     "language": "python",
     "metadata": {},
     "outputs": [],
     "prompt_number": 39
    },
    {
     "cell_type": "code",
     "collapsed": false,
     "input": [
      "import imp"
     ],
     "language": "python",
     "metadata": {},
     "outputs": [],
     "prompt_number": 40
    },
    {
     "cell_type": "code",
     "collapsed": false,
     "input": [
      "print api.version_control.__doc__"
     ],
     "language": "python",
     "metadata": {},
     "outputs": [
      {
       "output_type": "stream",
       "stream": "stdout",
       "text": [
        "%prog version_control URL REPOSITORY_PATH [VERSION]\n",
        "\n",
        "    Mark a database as under this repository's version control.\n",
        "\n",
        "    Once a database is under version control, schema changes should\n",
        "    only be done via change scripts in this repository.\n",
        "\n",
        "    This creates the table version_table in the database.\n",
        "\n",
        "    The url should be any valid SQLAlchemy connection string.\n",
        "\n",
        "    By default, the database begins at version 0 and is assumed to be\n",
        "    empty.  If the database is not empty, you may specify a version at\n",
        "    which to begin instead. No attempt is made to verify this\n",
        "    version's correctness - the database schema is expected to be\n",
        "    identical to what it would be if the database were created from\n",
        "    scratch.\n",
        "    \n"
       ]
      }
     ],
     "prompt_number": 54
    },
    {
     "cell_type": "code",
     "collapsed": false,
     "input": [
      "print imp.new_module.__doc__"
     ],
     "language": "python",
     "metadata": {},
     "outputs": [
      {
       "output_type": "stream",
       "stream": "stdout",
       "text": [
        "new_module(name) -> module\n",
        "Create a new module.  Do not enter it in sys.modules.\n",
        "The module name must include the full package name, if any.\n"
       ]
      }
     ],
     "prompt_number": 57
    },
    {
     "cell_type": "code",
     "collapsed": false,
     "input": [
      "from flask.ext.login import LoginManager"
     ],
     "language": "python",
     "metadata": {},
     "outputs": [],
     "prompt_number": 17
    },
    {
     "cell_type": "code",
     "collapsed": false,
     "input": [
      "from flask.ext.openid import OpenID"
     ],
     "language": "python",
     "metadata": {},
     "outputs": [],
     "prompt_number": 58
    },
    {
     "cell_type": "code",
     "collapsed": false,
     "input": [
      "from config import basedir\n",
      "\n",
      "basedir"
     ],
     "language": "python",
     "metadata": {},
     "outputs": [
      {
       "metadata": {},
       "output_type": "pyout",
       "prompt_number": 12,
       "text": [
        "'/Users/DboyLiao/Documents/Python_Learning/flask_Learn/flask_mega'"
       ]
      }
     ],
     "prompt_number": 12
    },
    {
     "cell_type": "code",
     "collapsed": false,
     "input": [
      "print OpenID.__doc__"
     ],
     "language": "python",
     "metadata": {},
     "outputs": [
      {
       "output_type": "stream",
       "stream": "stdout",
       "text": [
        "Simple helper class for OpenID auth.  Has to be created in advance\n",
        "    like a :class:`~flask.Flask` object.\n",
        "\n",
        "    There are two usage modes which work very similar.  One is binding\n",
        "    the instance to a very specific Flask application::\n",
        "\n",
        "        app = Flask(__name__)\n",
        "        db = OpenID(app)\n",
        "\n",
        "    The second possibility is to create the object once and configure the\n",
        "    application later to support it::\n",
        "\n",
        "        oid = OpenID()\n",
        "\n",
        "        def create_app():\n",
        "            app = Flask(__name__)\n",
        "            oid.init_app(app)\n",
        "            return app\n",
        "\n",
        "    :param app: the application to register this openid controller with.\n",
        "    :param fs_store_path: if given this is the name of a folder where the\n",
        "                          OpenID auth process can store temporary\n",
        "                          information.  If neither is provided a temporary\n",
        "                          folder is assumed.  This is overridden by the\n",
        "                          ``OPENID_FS_STORE_PATH`` configuration key.\n",
        "    :param store_factory: alternatively a function that creates a\n",
        "                          python-openid store object.\n",
        "    :param fallback_endpoint: optionally a string with the name of an URL\n",
        "                              endpoint the user should be redirected to\n",
        "                              if the HTTP referrer is unreliable.  By\n",
        "                              default the user is redirected back to the\n",
        "                              application's index in that case.\n",
        "    :param extension_responses: a list of OpenID Extensions Response class.\n",
        "    \n"
       ]
      }
     ],
     "prompt_number": 59
    },
    {
     "cell_type": "code",
     "collapsed": false,
     "input": [
      "lm = LoginManager()"
     ],
     "language": "python",
     "metadata": {},
     "outputs": [],
     "prompt_number": 60
    },
    {
     "cell_type": "code",
     "collapsed": false,
     "input": [
      "print lm.init_app.__doc__"
     ],
     "language": "python",
     "metadata": {},
     "outputs": [
      {
       "output_type": "stream",
       "stream": "stdout",
       "text": [
        "\n",
        "        Configures an application. This registers an `after_request` call, and\n",
        "        attaches this `LoginManager` to it as `app.login_manager`.\n",
        "\n",
        "        :param app: The :class:`flask.Flask` object to configure.\n",
        "        :type app: :class:`flask.Flask`\n",
        "        :param add_context_processor: Whether to add a context processor to\n",
        "            the app that adds a `current_user` variable to the template.\n",
        "            Defaults to ``True``.\n",
        "        :type add_context_processor: bool\n",
        "        \n"
       ]
      }
     ],
     "prompt_number": 61
    },
    {
     "cell_type": "code",
     "collapsed": false,
     "input": [
      "e = NameError()"
     ],
     "language": "python",
     "metadata": {},
     "outputs": [],
     "prompt_number": 54
    },
    {
     "cell_type": "code",
     "collapsed": false,
     "input": [
      "try:\n",
      "    print a\n",
      "except NameError as e:\n",
      "    print e.message\n",
      "    print e.args"
     ],
     "language": "python",
     "metadata": {},
     "outputs": [
      {
       "output_type": "stream",
       "stream": "stdout",
       "text": [
        "name 'a' is not defined\n",
        "(\"name 'a' is not defined\",)\n"
       ]
      }
     ],
     "prompt_number": 57
    },
    {
     "cell_type": "code",
     "collapsed": false,
     "input": [
      "lm = LoginManager()"
     ],
     "language": "python",
     "metadata": {},
     "outputs": [],
     "prompt_number": 18
    },
    {
     "cell_type": "code",
     "collapsed": false,
     "input": [
      "lm.init_app(app)"
     ],
     "language": "python",
     "metadata": {},
     "outputs": [],
     "prompt_number": 20
    },
    {
     "cell_type": "code",
     "collapsed": false,
     "input": [
      "print lm.user_loader.__doc__"
     ],
     "language": "python",
     "metadata": {},
     "outputs": [
      {
       "output_type": "stream",
       "stream": "stdout",
       "text": [
        "\n",
        "        This sets the callback for reloading a user from the session. The\n",
        "        function you set should take a user ID (a ``unicode``) and return a\n",
        "        user object, or ``None`` if the user does not exist.\n",
        "\n",
        "        :param callback: The callback for retrieving a user object.\n",
        "        :type callback: unicode\n",
        "        \n"
       ]
      }
     ],
     "prompt_number": 70
    },
    {
     "cell_type": "code",
     "collapsed": false,
     "input": [
      "from app import oid\n",
      "print oid.loginhandler.__doc__"
     ],
     "language": "python",
     "metadata": {},
     "outputs": [
      {
       "output_type": "stream",
       "stream": "stdout",
       "text": [
        "Marks a function as login handler.  This decorator injects some\n",
        "        more OpenID required logic.  Always decorate your login function with\n",
        "        this decorator.\n",
        "        \n"
       ]
      }
     ],
     "prompt_number": 72
    },
    {
     "cell_type": "code",
     "collapsed": false,
     "input": [
      "from app import app, db, oid, lm"
     ],
     "language": "python",
     "metadata": {},
     "outputs": [],
     "prompt_number": 33
    },
    {
     "cell_type": "code",
     "collapsed": false,
     "input": [
      "db.relationship?"
     ],
     "language": "python",
     "metadata": {},
     "outputs": [],
     "prompt_number": 34
    },
    {
     "cell_type": "code",
     "collapsed": false,
     "input": [
      "oid.try_login"
     ],
     "language": "python",
     "metadata": {},
     "outputs": [],
     "prompt_number": 41
    },
    {
     "cell_type": "code",
     "collapsed": false,
     "input": [
      "lm.login_view"
     ],
     "language": "python",
     "metadata": {},
     "outputs": [
      {
       "metadata": {},
       "output_type": "pyout",
       "prompt_number": 56,
       "text": [
        "'login'"
       ]
      }
     ],
     "prompt_number": 56
    },
    {
     "cell_type": "code",
     "collapsed": false,
     "input": [
      "from flask.ext.login import current_user"
     ],
     "language": "python",
     "metadata": {},
     "outputs": [],
     "prompt_number": 60
    },
    {
     "cell_type": "code",
     "collapsed": false,
     "input": [
      "current_user"
     ],
     "language": "python",
     "metadata": {},
     "outputs": [
      {
       "metadata": {},
       "output_type": "pyout",
       "prompt_number": 61,
       "text": [
        "None"
       ]
      }
     ],
     "prompt_number": 61
    },
    {
     "cell_type": "code",
     "collapsed": false,
     "input": [
      "from flask import url_for"
     ],
     "language": "python",
     "metadata": {},
     "outputs": [],
     "prompt_number": 74
    },
    {
     "cell_type": "code",
     "collapsed": false,
     "input": [
      "url_for?"
     ],
     "language": "python",
     "metadata": {},
     "outputs": [],
     "prompt_number": 75
    },
    {
     "cell_type": "code",
     "collapsed": false,
     "input": [
      "a = None"
     ],
     "language": "python",
     "metadata": {},
     "outputs": [],
     "prompt_number": 80
    },
    {
     "cell_type": "code",
     "collapsed": false,
     "input": [
      "a is None"
     ],
     "language": "python",
     "metadata": {},
     "outputs": [
      {
       "metadata": {},
       "output_type": "pyout",
       "prompt_number": 81,
       "text": [
        "True"
       ]
      }
     ],
     "prompt_number": 81
    },
    {
     "cell_type": "code",
     "collapsed": false,
     "input": [
      "a == None"
     ],
     "language": "python",
     "metadata": {},
     "outputs": [
      {
       "metadata": {},
       "output_type": "pyout",
       "prompt_number": 82,
       "text": [
        "True"
       ]
      }
     ],
     "prompt_number": 82
    },
    {
     "cell_type": "code",
     "collapsed": false,
     "input": [
      "from hashlib import md5"
     ],
     "language": "python",
     "metadata": {},
     "outputs": [],
     "prompt_number": 90
    },
    {
     "cell_type": "code",
     "collapsed": false,
     "input": [
      "hashed_string = md5(\"testing_Dboy@nowhere.com\")"
     ],
     "language": "python",
     "metadata": {},
     "outputs": [],
     "prompt_number": 93
    },
    {
     "cell_type": "code",
     "collapsed": false,
     "input": [
      "hashed_string.hexdigest()"
     ],
     "language": "python",
     "metadata": {},
     "outputs": [
      {
       "metadata": {},
       "output_type": "pyout",
       "prompt_number": 95,
       "text": [
        "'77705de8f20b80c72573a5616d3dbd89'"
       ]
      }
     ],
     "prompt_number": 95
    },
    {
     "cell_type": "code",
     "collapsed": false,
     "input": [
      "hashed_string.hexdigest()"
     ],
     "language": "python",
     "metadata": {},
     "outputs": [
      {
       "metadata": {},
       "output_type": "pyout",
       "prompt_number": 107,
       "text": [
        "'77705de8f20b80c72573a5616d3dbd89'"
       ]
      }
     ],
     "prompt_number": 107
    },
    {
     "cell_type": "code",
     "collapsed": false,
     "input": [
      "import logging"
     ],
     "language": "python",
     "metadata": {},
     "outputs": [],
     "prompt_number": 148
    },
    {
     "cell_type": "code",
     "collapsed": false,
     "input": [
      "from flask.ext.wtf import Form"
     ],
     "language": "python",
     "metadata": {},
     "outputs": [],
     "prompt_number": 164
    },
    {
     "cell_type": "code",
     "collapsed": false,
     "input": [
      "Form?"
     ],
     "language": "python",
     "metadata": {},
     "outputs": [],
     "prompt_number": 169
    },
    {
     "cell_type": "code",
     "collapsed": false,
     "input": [
      "import unittest"
     ],
     "language": "python",
     "metadata": {},
     "outputs": [],
     "prompt_number": 182
    },
    {
     "cell_type": "code",
     "collapsed": false,
     "input": [
      "print unittest.main.__doc__"
     ],
     "language": "python",
     "metadata": {},
     "outputs": [
      {
       "output_type": "stream",
       "stream": "stdout",
       "text": [
        "A command-line program that runs a set of tests; this is primarily\n",
        "       for making test modules conveniently executable.\n",
        "    \n"
       ]
      }
     ],
     "prompt_number": 183
    },
    {
     "cell_type": "code",
     "collapsed": false,
     "input": [
      "from app import db"
     ],
     "language": "python",
     "metadata": {},
     "outputs": [],
     "prompt_number": 190
    },
    {
     "cell_type": "code",
     "collapsed": false,
     "input": [
      "from app.models import Post"
     ],
     "language": "python",
     "metadata": {},
     "outputs": [],
     "prompt_number": 213
    },
    {
     "cell_type": "code",
     "collapsed": false,
     "input": [
      "b = {\"a\":1}\n",
      "b.update({\"b\":2})"
     ],
     "language": "python",
     "metadata": {},
     "outputs": [],
     "prompt_number": 238
    },
    {
     "cell_type": "code",
     "collapsed": false,
     "input": [
      "import sys"
     ],
     "language": "python",
     "metadata": {},
     "outputs": [],
     "prompt_number": 6
    },
    {
     "cell_type": "code",
     "collapsed": false,
     "input": [
      "print sys.version_info"
     ],
     "language": "python",
     "metadata": {},
     "outputs": [
      {
       "output_type": "stream",
       "stream": "stdout",
       "text": [
        "sys.version_info(major=2, minor=7, micro=7, releaselevel='final', serial=0)\n"
       ]
      }
     ],
     "prompt_number": 19
    },
    {
     "cell_type": "code",
     "collapsed": false,
     "input": [
      "from jinja2 import Markup"
     ],
     "language": "python",
     "metadata": {},
     "outputs": [],
     "prompt_number": 16
    },
    {
     "cell_type": "code",
     "collapsed": false,
     "input": [
      "Markup"
     ],
     "language": "python",
     "metadata": {},
     "outputs": [],
     "prompt_number": 17
    },
    {
     "cell_type": "code",
     "collapsed": false,
     "input": [
      "a = {\"xx\":3, \"yy\":2}\n",
      "print a.items()"
     ],
     "language": "python",
     "metadata": {},
     "outputs": [
      {
       "output_type": "stream",
       "stream": "stdout",
       "text": [
        "[('yy', 2), ('xx', 3)]\n"
       ]
      }
     ],
     "prompt_number": 31
    },
    {
     "cell_type": "code",
     "collapsed": false,
     "input": [],
     "language": "python",
     "metadata": {},
     "outputs": []
    }
   ],
   "metadata": {}
  }
 ]
}