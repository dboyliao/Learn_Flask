{
 "metadata": {
  "name": "",
  "signature": "sha256:f7fc5fba7a6154bbad047be683e4c5b3b1fa2bd653a24067e34ccb1b14952119"
 },
 "nbformat": 3,
 "nbformat_minor": 0,
 "worksheets": [
  {
   "cells": [
    {
     "cell_type": "markdown",
     "metadata": {},
     "source": [
      "##Reference\n",
      "\n",
      "- [Flask API](http://flask.pocoo.org/docs/0.10/api/)\n",
      "- [Flask Mega Tutorial](http://blog.miguelgrinberg.com/post/the-flask-mega-tutorial-part-i-hello-world)\n",
      "- [Flask Intro github](https://github.com/realpython/discover-flask?utm_content=buffer462b0&utm_medium=social&utm_source=twitter.com&utm_campaign=buffer)\n",
      "- http://zh.wikipedia.org/wiki/Cookie\n",
      "- [Real Python (Flask)](https://www.youtube.com/watch?v=VsuArvWwuDI)\n",
      "- [Discover Flask](https://www.youtube.com/watch?v=_vrAjAHhUsA)\n",
      "- [JinJa](http://jinja.pocoo.org)\n",
      "- [Flask-SQLAlchemy](https://pythonhosted.org/Flask-SQLAlchemy/quickstart.html)\n",
      "- [Flask-Migrate](http://flask-migrate.readthedocs.org/en/latest/)\n",
      "- [Flask Script](http://flask-script.readthedocs.org/en/latest/)\n",
      "- [SQLAlchemy Tutorial](http://chimerhapsody.blogspot.tw/2013/08/python-sqlalchemy-orm-part-1.html)\n",
      "- [SQLAlchemy Pycon 2014](https://www.youtube.com/watch?v=P141KRbxVKc)\n",
      "- [SQL Tutorial](http://webdesign.kerthis.com/sql/sql_data_types)\n",
      "- [WSGI](http://blog.ez2learn.com/2010/01/27/introduction-to-wsgi/)\n",
      "\n",
      "`note: I skip part 12, 13 and 14 of Discover Flask.`"
     ]
    },
    {
     "cell_type": "code",
     "collapsed": false,
     "input": [
      "import os"
     ],
     "language": "python",
     "metadata": {},
     "outputs": [],
     "prompt_number": 2
    },
    {
     "cell_type": "code",
     "collapsed": true,
     "input": [
      "os.chdir(\"/Users/DboyLiao/Documents/flask_intro/\")"
     ],
     "language": "python",
     "metadata": {},
     "outputs": [],
     "prompt_number": 4
    },
    {
     "cell_type": "code",
     "collapsed": false,
     "input": [
      "%%file app.py\n",
      "# g is a object in flask used for storing temp data. Its value is reset every request.\n",
      "from flask import Flask, render_template, redirect, url_for, request, session, flash\n",
      "from functools import wraps\n",
      "from flask.ext.sqlalchemy import SQLAlchemy\n",
      "#import sqlite3\n",
      "\n",
      "# __name__: the name of current namespace.\n",
      "app = Flask(__name__)\n",
      "\n",
      "# # using sqlite3\n",
      "# app.database = \"sample.db\"\n",
      "\n",
      "# #using sqlalchemy with hard coded config\n",
      "# app.secret_key = \"Dboy\"\n",
      "# app.config['SQLALCHEMY_DATABASE_URI'] = \"sqlite:///posts.db\"\n",
      "\n",
      "# using sqlalchemy with config imported from config.py\n",
      "app.config.from_object(\"config.DevConfig\")\n",
      "\n",
      "# create SQLAlchemy object\n",
      "db = SQLAlchemy(app)\n",
      "\n",
      "from models import *\n",
      "\n",
      "def login_required(f):\n",
      "    @wraps(f)\n",
      "    def wrap(*args, **kwargs):\n",
      "        if \"logged_in\" in session:\n",
      "            return f(*args, **kwargs)\n",
      "        else:\n",
      "            flash(\"You have to login first.\")\n",
      "            return redirect(url_for(\"login\"))\n",
      "    return wrap\n",
      "\n",
      "@app.route(\"/\")\n",
      "@login_required\n",
      "def home():\n",
      "    posts = db.session.query(BlogPost).all()\n",
      "    return render_template(\"index_block.html\", posts = posts)\n",
      "#     # using sqlite3\n",
      "#     g.db = connect_db()\n",
      "#     cur = g.db.execute(\"select * from posts\")\n",
      "#     posts = [dict(title = row[0], description = row[1]) for row in cur.fetchall()]\n",
      "#     g.db.close()\n",
      "#     return render_template(\"index_block.html\", posts = posts)\n",
      "    \n",
      "\n",
      "@app.route(\"/welcome\")\n",
      "def welcome():\n",
      "    return render_template(\"welcome_block.html\")\n",
      "\n",
      "@app.route(\"/login\", methods = [\"GET\", \"POST\"])\n",
      "def login():\n",
      "    error = None\n",
      "    if request.method == \"POST\":\n",
      "        if request.form[\"username\"] != \"admin\" or request.form[\"password\"] != \"admin\":\n",
      "            error = \"Invalid credentials. Please check the username or password.\"\n",
      "        else:\n",
      "            session[\"logged_in\"] = True\n",
      "            flash(\"You were just logged in.\")\n",
      "            return redirect(url_for(\"home\"))\n",
      "    return render_template(\"login_block.html\", error = error)\n",
      "\n",
      "@app.route(\"/logout\")\n",
      "@login_required\n",
      "def logout():\n",
      "    session.pop(\"logged_in\", None)\n",
      "    flash(\"You were just logged out.\")\n",
      "    return redirect(url_for(\"welcome\"))\n",
      "\n",
      "# # using sqlite3\n",
      "# def connect_db():\n",
      "#     return sqlite3.connect(app.database)\n",
      "\n",
      "if __name__ == \"__main__\":\n",
      "    app.run(port = 8888)"
     ],
     "language": "python",
     "metadata": {},
     "outputs": [
      {
       "output_type": "stream",
       "stream": "stdout",
       "text": [
        "Overwriting app.py\n"
       ]
      }
     ],
     "prompt_number": 5
    },
    {
     "cell_type": "code",
     "collapsed": false,
     "input": [
      "%%file config.py\n",
      "# default config\n",
      "import os\n",
      "\n",
      "class BaseConfig(object):\n",
      "    DEBUG = False\n",
      "    SECRET_KEY = os.urandom(24)\n",
      "    SQLALCHEMY_DATABASE_URI = \"sqlite:///posts.db\"\n",
      "    with open(\"secretkey.txt\", \"wb\") as wf:\n",
      "        wf.write(SECRET_KEY)\n",
      "\n",
      "class DevConfig(BaseConfig):\n",
      "    DEBUG = True\n",
      "    SQLALCHEMY_DATABASE_URI = \"sqlite:///posts.db\"\n",
      "\n",
      "class ProdConfig(BaseConfig):\n",
      "    DEBUG = False\n",
      "    SQLALCHEMY_DATABASE_URI = \"sqlite:///posts.db\""
     ],
     "language": "python",
     "metadata": {},
     "outputs": [
      {
       "output_type": "stream",
       "stream": "stdout",
       "text": [
        "Overwriting config.py\n"
       ]
      }
     ],
     "prompt_number": 6
    },
    {
     "cell_type": "code",
     "collapsed": false,
     "input": [
      "from app import app\n",
      "print app.config[\"SQLALCHEMY_DATABASE_URI\"]\n",
      "print repr(app.config[\"SECRET_KEY\"])\n",
      "print app.config[\"DEBUG\"]\n",
      "app.config[\"SECRET_KEY\"]"
     ],
     "language": "python",
     "metadata": {},
     "outputs": [
      {
       "output_type": "stream",
       "stream": "stdout",
       "text": [
        "sqlite:///posts.db\n",
        "'\\xf3\\xb6\\x81\\x82\\xe5b\\x7fC\\xbc\\xd2|\\\\\\x869~\\xd37\\xe8TB\\x89\\xfa\\x9d\\xee'\n",
        "True\n"
       ]
      },
      {
       "metadata": {},
       "output_type": "pyout",
       "prompt_number": 19,
       "text": [
        "'\\xf3\\xb6\\x81\\x82\\xe5b\\x7fC\\xbc\\xd2|\\\\\\x869~\\xd37\\xe8TB\\x89\\xfa\\x9d\\xee'"
       ]
      }
     ],
     "prompt_number": 19
    },
    {
     "cell_type": "code",
     "collapsed": false,
     "input": [
      "# fire up the app. (In real application, it is like run the server up.)\n",
      "os.system(\"python app.py &\")"
     ],
     "language": "python",
     "metadata": {},
     "outputs": [
      {
       "metadata": {},
       "output_type": "pyout",
       "prompt_number": 23,
       "text": [
        "0"
       ]
      }
     ],
     "prompt_number": 23
    },
    {
     "cell_type": "markdown",
     "metadata": {},
     "source": [
      "## Now go to [here](http://localhost:8888/) to check out the website(s)."
     ]
    },
    {
     "cell_type": "code",
     "collapsed": false,
     "input": [
      "# close app.py\n",
      "os.system(\"ps aux | grep app.py | grep -v grep | awk '{print $2}' | xargs kill\")"
     ],
     "language": "python",
     "metadata": {},
     "outputs": [
      {
       "metadata": {},
       "output_type": "pyout",
       "prompt_number": 22,
       "text": [
        "0"
       ]
      }
     ],
     "prompt_number": 22
    },
    {
     "cell_type": "markdown",
     "metadata": {},
     "source": [
      "----\n",
      "\n",
      "## Adding Few Static Files"
     ]
    },
    {
     "cell_type": "code",
     "collapsed": false,
     "input": [
      "%%file templates/login.html\n",
      "<html>\n",
      "  <head>\n",
      "    <title>Flask Intro - login page</title>\n",
      "    <meta name=\"viewport\" content=\"width=device-width, initial-scale=1.0\">\n",
      "    <link href=\"static/css/bootstrap.min.css\" rel=\"stylesheet\" media=\"screen\">\n",
      "  </head>\n",
      "  <body>\n",
      "    <div class=\"container\">\n",
      "      <h1>Please login</h1>\n",
      "      <br>\n",
      "      <form action=\"\" method=\"post\">\n",
      "        <input type=\"text\" placeholder=\"Username\" name=\"username\" value=\"{{\n",
      "          request.form.username }}\">\n",
      "         <input type=\"password\" placeholder=\"Password\" name=\"password\" value=\"{{\n",
      "          request.form.password }}\">\n",
      "        <input class=\"btn btn-default\" type=\"submit\" value=\"Login\">\n",
      "      </form>\n",
      "      {% for message in get_flashed_messages()%}\n",
      "        {{ message }}\n",
      "      {% endfor %}\n",
      "      {% if error %}\n",
      "        <p class=\"error\"><strong>Error:</strong> {{ error }}\n",
      "      {% endif %}\n",
      "    </div>\n",
      "  </body>\n",
      "</html>"
     ],
     "language": "python",
     "metadata": {},
     "outputs": [
      {
       "output_type": "stream",
       "stream": "stdout",
       "text": [
        "Overwriting templates/login.html\n"
       ]
      }
     ],
     "prompt_number": 119
    },
    {
     "cell_type": "code",
     "collapsed": false,
     "input": [
      "%%file templates/welcome.html\n",
      "<!DOCTYPE html>\n",
      "<html>\n",
      "  <head>\n",
      "    <title>Flask Intro</title>\n",
      "    <meta name=\"viewport\" content=\"width=device-width, initial-scale=1.0\">\n",
      "    <link href=\"static/css/bootstrap.min.css\" rel=\"stylesheet\" media=\"screen\">\n",
      "  </head>\n",
      "  <body>\n",
      "    <div class=\"container\">\n",
      "      <h1>Welcome to Flask!</h2>\n",
      "      <br>\n",
      "      <p>Click <a href=\"/\">here</a> to go home.</p>\n",
      "      {% for message in get_flashed_messages()%}\n",
      "        {{ message }}\n",
      "      {% endfor %}\n",
      "    </div>\n",
      "  </body>\n",
      "</html>"
     ],
     "language": "python",
     "metadata": {},
     "outputs": [
      {
       "output_type": "stream",
       "stream": "stdout",
       "text": [
        "Overwriting templates/welcome.html\n"
       ]
      }
     ],
     "prompt_number": 6
    },
    {
     "cell_type": "code",
     "collapsed": false,
     "input": [
      "%%file templates/index.html\n",
      "<!DOCTYPE html>\n",
      "<html>\n",
      "<head>\n",
      "    <title>Flask Intro</title>\n",
      "    <meta name=\"viewport\" content=\"width=device-width, initial-scale=1.0\">\n",
      "    <link href=\"static/css/bootstrap.min.css\" rel=\"stylesheet\" media=\"screen\">\n",
      "  </head>\n",
      "  <body>\n",
      "    <div class=\"container\">\n",
      "      <h1>Welcome to Flask!</h2>\n",
      "      <br>\n",
      "      <p>Click <a href=\"/\">here</a> to go home.</p>\n",
      "      <p>Click <a href=\"/logout\">here</a> to logout.</p>\n",
      "      {% for message in get_flashed_messages()%}\n",
      "        {{ message }}\n",
      "      {% endfor %}\n",
      "    </div>\n",
      "  </body>\n",
      "</html>"
     ],
     "language": "python",
     "metadata": {},
     "outputs": [
      {
       "output_type": "stream",
       "stream": "stdout",
       "text": [
        "Overwriting templates/index.html\n"
       ]
      }
     ],
     "prompt_number": 5
    },
    {
     "cell_type": "code",
     "collapsed": false,
     "input": [],
     "language": "python",
     "metadata": {},
     "outputs": []
    },
    {
     "cell_type": "markdown",
     "metadata": {},
     "source": [
      "## Database"
     ]
    },
    {
     "cell_type": "code",
     "collapsed": false,
     "input": [
      "%%file sql.py\n",
      "import sqlite3\n",
      "\n",
      "with sqlite3.connect(\"sample.db\") as sampleDB:\n",
      "    cursor = sampleDB.cursor()\n",
      "    try:\n",
      "        cursor.execute(\"\"\"DROP TABLE posts\"\"\")\n",
      "        cursor.execute(\"CREATE TABLE posts(titile TEXT, description TEXT)\")\n",
      "        cursor.execute('INSERT INTO posts VALUES(\"Good\", \"I\\'m good.\")')\n",
      "        cursor.execute('INSERT INTO posts VALUES(\"Well\", \"I\\'m well.\")')\n",
      "    except:\n",
      "        cursor.execute(\"CREATE TABLE posts(titile TEXT, description TEXT)\")\n",
      "        cursor.execute('INSERT INTO posts VALUES(\"Good\", \"I\\'m good.\")')\n",
      "        cursor.execute('INSERT INTO posts VALUES(\"Well\", \"I\\'m well.\")')"
     ],
     "language": "python",
     "metadata": {},
     "outputs": [
      {
       "output_type": "stream",
       "stream": "stdout",
       "text": [
        "Overwriting sql.py\n"
       ]
      }
     ],
     "prompt_number": 24
    },
    {
     "cell_type": "code",
     "collapsed": false,
     "input": [
      "%%file manage.py\n",
      "from flask.ext.script import Manager\n",
      "from flask.ext.migrate import Migrate, MigrateCommand\n",
      "import os\n",
      "\n",
      "from app import app, db\n",
      "\n",
      "app.config.from_object(\"config.DevConfig\")\n",
      "migrate = Migrate(app, db)\n",
      "manager = Manager(app)\n",
      "\n",
      "manager.add_command('db', MigrateCommand)\n",
      "\n",
      "if __name__ == '__main__':\n",
      "    manager.run()"
     ],
     "language": "python",
     "metadata": {},
     "outputs": [
      {
       "output_type": "stream",
       "stream": "stdout",
       "text": [
        "Overwriting manage.py\n"
       ]
      }
     ],
     "prompt_number": 21
    },
    {
     "cell_type": "code",
     "collapsed": false,
     "input": [],
     "language": "python",
     "metadata": {},
     "outputs": []
    },
    {
     "cell_type": "code",
     "collapsed": false,
     "input": [],
     "language": "python",
     "metadata": {},
     "outputs": []
    },
    {
     "cell_type": "code",
     "collapsed": false,
     "input": [
      "os.system(\"python sql.py\")"
     ],
     "language": "python",
     "metadata": {},
     "outputs": [
      {
       "metadata": {},
       "output_type": "pyout",
       "prompt_number": 25,
       "text": [
        "0"
       ]
      }
     ],
     "prompt_number": 25
    },
    {
     "cell_type": "code",
     "collapsed": false,
     "input": [
      "from models import BlogPost\n",
      "\n",
      "posts = BlogPost.query.all()\n",
      "posts"
     ],
     "language": "python",
     "metadata": {},
     "outputs": [
      {
       "metadata": {},
       "output_type": "pyout",
       "prompt_number": 9,
       "text": [
        "[< title Good, < title Well]"
       ]
      }
     ],
     "prompt_number": 9
    },
    {
     "cell_type": "code",
     "collapsed": false,
     "input": [
      "type(posts)"
     ],
     "language": "python",
     "metadata": {},
     "outputs": [
      {
       "metadata": {},
       "output_type": "pyout",
       "prompt_number": 14,
       "text": [
        "list"
       ]
      }
     ],
     "prompt_number": 14
    },
    {
     "cell_type": "code",
     "collapsed": false,
     "input": [],
     "language": "python",
     "metadata": {},
     "outputs": []
    },
    {
     "cell_type": "markdown",
     "metadata": {},
     "source": [
      "## Testing"
     ]
    },
    {
     "cell_type": "code",
     "collapsed": false,
     "input": [
      "%%file test.py\n",
      "from app import app\n",
      "import unittest\n",
      "import cPickle as pickle\n",
      "\n",
      "#tester = app.test_client()\n",
      "\n",
      "class FlaskTestCase(unittest.TestCase):\n",
      "    \n",
      "    # Ensure that flask was set up correctly.\n",
      "    def test_index(self):\n",
      "        tester = app.test_client()\n",
      "        response = tester.get(\"/login\", content_type = \"html/text\")\n",
      "        self.assertEqual(response.status_code, 200)\n",
      "    \n",
      "    # Ensure that the login page load correctly.\n",
      "    def test_login_page_load(self):\n",
      "        tester = app.test_client()\n",
      "        # record the attributes of a response of get method.\n",
      "        response = tester.get(\"/login\", content_type = \"html/text\")\n",
      "        self.assertEqual(\"Please Login\" in response.data, True)\n",
      "        temp_dir = dict()\n",
      "        for attr_name in dir(response):\n",
      "            temp_dir[attr_name] = repr(response.__getattribute__(attr_name))\n",
      "        with open(\"/Users/DboyLiao/Documents/flask_intro/response_get.pickle\", \"wb\") as wf:\n",
      "            pickle.dump(temp_dir, wf)\n",
      "        # record the attributes of a testers. (thing can be tested)\n",
      "        temp_dir = dict()\n",
      "        for attr_name in dir(tester):\n",
      "            temp_dir[attr_name] = repr(tester.__getattribute__(attr_name))\n",
      "        with open(\"/Users/DboyLiao/Documents/flask_intro/tester.pickle\", \"wb\") as wf:\n",
      "            pickle.dump(temp_dir, wf)\n",
      "        # record the attributes of a response of post method.\n",
      "        response = tester.post(\"/login\", data = dict(username = \"admin\", password = \"admin\"))\n",
      "        temp_dir = dict()\n",
      "        for attr_name in dir(response):\n",
      "            temp_dir[attr_name] = repr(response.__getattribute__(attr_name))\n",
      "        with open(\"/Users/DboyLiao/Documents/flask_intro/response_post.pickle\", \"wb\") as wf:\n",
      "            pickle.dump(temp_dir, wf)\n",
      "    \n",
      "    # Ensure the login behave correctly given the correct credentials\n",
      "    def test_correct_login(self):\n",
      "        tester = app.test_client()\n",
      "        response = tester.post(\"/login\",\n",
      "                               data = {\"username\":\"admin\", \"password\":\"admin\"},\n",
      "                               follow_redirects = True)\n",
      "        self.assertIn(b\"You were just logged in.\", response.data)\n",
      "    \n",
      "    # Ensure the login behave correctly given the incorrect credentials\n",
      "    def test_incorrect_login(self):\n",
      "        tester = app.test_client()\n",
      "        response = tester.post(\"/login\",\n",
      "                               data = {\"username\":\"test\", \"password\":\"test\"},\n",
      "                               follow_redirects = True)\n",
      "        self.assertIn(\"Please check the username or password.\", response.data)\n",
      "        #self.assertIn(\"Error: Invalid credentials. Please check the username or password.\", response.data)\n",
      "    \n",
      "    # Ensure the logout behave correctly\n",
      "    def test_logout(self):\n",
      "        # Here we must initialize a new tester to preserve the loggin state.\n",
      "        tester = app.test_client()\n",
      "        tester.post(\"/login\",\n",
      "                    data = {\"username\":\"admin\", \"password\":\"admin\"},\n",
      "                    follow_redirects = True)\n",
      "        response = tester.get(\"/logout\", follow_redirects = True)\n",
      "        self.assertIn(b\"You were just logged out.\", response.data)\n",
      "        \n",
      "    # Ensure that the home requires login.\n",
      "    def test_home_requires_login(self):\n",
      "        tester = app.test_client()\n",
      "        response = tester.get(\"/\", follow_redirects = True)\n",
      "        self.assertIn(b\"You have to login first.\", response.data)\n",
      "        \n",
      "    # Ensure the logout page requires login.\n",
      "    def test_logout_requires_login(self):\n",
      "        tester = app.test_client()\n",
      "        response = tester.get(\"/logout\", follow_redirects = True)\n",
      "        self.assertIn(b\"You have to login first.\", response.data)\n",
      "        \n",
      "if __name__ == \"__main__\":\n",
      "    unittest.main()"
     ],
     "language": "python",
     "metadata": {},
     "outputs": [
      {
       "output_type": "stream",
       "stream": "stdout",
       "text": [
        "Overwriting test.py\n"
       ]
      }
     ],
     "prompt_number": 22
    },
    {
     "cell_type": "code",
     "collapsed": false,
     "input": [
      "!python test.py -v"
     ],
     "language": "python",
     "metadata": {},
     "outputs": [
      {
       "output_type": "stream",
       "stream": "stdout",
       "text": [
        "test_correct_login (__main__.FlaskTestCase) ... "
       ]
      },
      {
       "output_type": "stream",
       "stream": "stdout",
       "text": [
        "ok\r\n",
        "test_home_requires_login (__main__.FlaskTestCase) ... "
       ]
      },
      {
       "output_type": "stream",
       "stream": "stdout",
       "text": [
        "ok\r\n",
        "test_incorrect_login (__main__.FlaskTestCase) ... ok\r\n",
        "test_index (__main__.FlaskTestCase) ... ok\r\n",
        "test_login_page_load (__main__.FlaskTestCase) ... ok\r\n",
        "test_logout (__main__.FlaskTestCase) ... "
       ]
      },
      {
       "output_type": "stream",
       "stream": "stdout",
       "text": [
        "ok\r\n",
        "test_logout_requires_login (__main__.FlaskTestCase) ... ok\r\n",
        "\r\n",
        "----------------------------------------------------------------------\r\n",
        "Ran 7 tests in 0.334s\r\n",
        "\r\n",
        "OK\r\n"
       ]
      }
     ],
     "prompt_number": 23
    },
    {
     "cell_type": "code",
     "collapsed": false,
     "input": [],
     "language": "python",
     "metadata": {},
     "outputs": []
    },
    {
     "cell_type": "code",
     "collapsed": false,
     "input": [
      "test_dir = {\"logged_in\": True, \"a\":1, \"name\":\"Dboy\"}\n",
      "test = test_dir.pop(\"logged_in\", None)"
     ],
     "language": "python",
     "metadata": {},
     "outputs": [],
     "prompt_number": 8
    },
    {
     "cell_type": "code",
     "collapsed": false,
     "input": [
      "print test_dir, test"
     ],
     "language": "python",
     "metadata": {},
     "outputs": [
      {
       "output_type": "stream",
       "stream": "stdout",
       "text": [
        "{'a': 1, 'name': 'Dboy'} True\n"
       ]
      }
     ],
     "prompt_number": 9
    },
    {
     "cell_type": "code",
     "collapsed": false,
     "input": [
      "from flask import *\n",
      "import flask"
     ],
     "language": "python",
     "metadata": {},
     "outputs": [],
     "prompt_number": 10
    },
    {
     "cell_type": "code",
     "collapsed": false,
     "input": [
      "import re\n",
      "pattern = re.compile(\"^[a-z][a-z_]+\")\n",
      "dir_flask = dir(flask)"
     ],
     "language": "python",
     "metadata": {},
     "outputs": [],
     "prompt_number": 11
    },
    {
     "cell_type": "code",
     "collapsed": false,
     "input": [
      "def method_match(a_string):\n",
      "    if pattern.search(a_string) is not None:\n",
      "        return pattern.search(a_string).group()"
     ],
     "language": "python",
     "metadata": {},
     "outputs": [],
     "prompt_number": 12
    },
    {
     "cell_type": "code",
     "collapsed": false,
     "input": [
      "flask_methods = [method for method in map(method_match, dir_flask) if method is not None]\n",
      "flask_methods"
     ],
     "language": "python",
     "metadata": {},
     "outputs": [
      {
       "metadata": {},
       "output_type": "pyout",
       "prompt_number": 13,
       "text": [
        "['abort',\n",
        " 'after_this_request',\n",
        " 'app',\n",
        " 'appcontext_popped',\n",
        " 'appcontext_pushed',\n",
        " 'appcontext_tearing_down',\n",
        " 'blueprints',\n",
        " 'config',\n",
        " 'copy_current_request_context',\n",
        " 'ctx',\n",
        " 'current_app',\n",
        " 'debughelpers',\n",
        " 'escape',\n",
        " 'ext',\n",
        " 'exthook',\n",
        " 'flash',\n",
        " 'get_flashed_messages',\n",
        " 'get_template_attribute',\n",
        " 'globals',\n",
        " 'got_request_exception',\n",
        " 'has_app_context',\n",
        " 'has_request_context',\n",
        " 'helpers',\n",
        " 'json',\n",
        " 'json_available',\n",
        " 'jsonify',\n",
        " 'make_response',\n",
        " 'message_flashed',\n",
        " 'module',\n",
        " 'redirect',\n",
        " 'render_template',\n",
        " 'render_template_string',\n",
        " 'request',\n",
        " 'request_finished',\n",
        " 'request_started',\n",
        " 'request_tearing_down',\n",
        " 'safe_join',\n",
        " 'send_file',\n",
        " 'send_from_directory',\n",
        " 'session',\n",
        " 'sessions',\n",
        " 'signals',\n",
        " 'signals_available',\n",
        " 'stream_with_context',\n",
        " 'template_rendered',\n",
        " 'templating',\n",
        " 'url_for',\n",
        " 'wrappers']"
       ]
      }
     ],
     "prompt_number": 13
    },
    {
     "cell_type": "code",
     "collapsed": false,
     "input": [
      "import cPickle as pickle"
     ],
     "language": "python",
     "metadata": {},
     "outputs": [],
     "prompt_number": 14
    },
    {
     "cell_type": "code",
     "collapsed": false,
     "input": [
      "with open(\"response_get.pickle\", \"rb\") as rf:\n",
      "    temp_dir = pickle.load(rf)"
     ],
     "language": "python",
     "metadata": {},
     "outputs": [],
     "prompt_number": 15
    },
    {
     "cell_type": "code",
     "collapsed": false,
     "input": [
      "# Let's find out what you can get back from one request.\n",
      "import re\n",
      "\n",
      "pattern = re.compile(\"^[a-z][a-z_1-9]+\")\n",
      "match = []\n",
      "for key in temp_dir.keys():\n",
      "    match.append(pattern.match(key))\n",
      "instance_methods = [method.group() for method in match if method is not None]\n",
      "print \"{:=^100}\".format(\"\")\n",
      "print \"{title:=^100}\".format(title = \" Instance Method (GET)\")\n",
      "for key in instance_methods:\n",
      "    content = key + \":\\n\" + \"    \" + temp_dir[key]\n",
      "    print content\n",
      "print \"{:=^100}\".format(\"\")"
     ],
     "language": "python",
     "metadata": {},
     "outputs": [
      {
       "output_type": "stream",
       "stream": "stdout",
       "text": [
        "====================================================================================================\n",
        "======================================= Instance Method (GET)=======================================\n",
        "content_length:\n",
        "    682\n",
        "charset:\n",
        "    'utf-8'\n",
        "calculate_content_length:\n",
        "    <bound method Response.calculate_content_length of <Response 682 bytes [200 OK]>>\n",
        "stream:\n",
        "    <werkzeug.wrappers.ResponseStream object at 0x10cdb0850>\n",
        "make_conditional:\n",
        "    <bound method Response.make_conditional of <Response 682 bytes [200 OK]>>\n",
        "status_code:\n",
        "    200\n",
        "implicit_sequence_conversion:\n",
        "    True\n",
        "freeze:\n",
        "    <bound method Response.freeze of <Response 682 bytes [200 OK]>>\n",
        "content_language:\n",
        "    HeaderSet([])\n",
        "make_sequence:\n",
        "    <bound method Response.make_sequence of <Response 682 bytes [200 OK]>>\n",
        "default_status:\n",
        "    200\n",
        "content_location:\n",
        "    None\n",
        "close:\n",
        "    <bound method Response.close of <Response 682 bytes [200 OK]>>\n",
        "autocorrect_location_header:\n",
        "    True\n",
        "get_app_iter:\n",
        "    <bound method Response.get_app_iter of <Response 682 bytes [200 OK]>>\n",
        "add_etag:\n",
        "    <bound method Response.add_etag of <Response 682 bytes [200 OK]>>\n",
        "delete_cookie:\n",
        "    <bound method Response.delete_cookie of <Response 682 bytes [200 OK]>>\n",
        "get_data:\n",
        "    <bound method Response.get_data of <Response 682 bytes [200 OK]>>\n",
        "get_etag:\n",
        "    <bound method Response.get_etag of <Response 682 bytes [200 OK]>>\n",
        "get_wsgi_response:\n",
        "    <bound method Response.get_wsgi_response of <Response 682 bytes [200 OK]>>\n",
        "www_authenticate:\n",
        "    <WWWAuthenticate 'Basic '>\n",
        "content_range:\n",
        "    <ContentRange ''>\n",
        "content_encoding:\n",
        "    None\n",
        "content_md5:\n",
        "    None\n",
        "automatically_set_content_length:\n",
        "    True\n",
        "accept_ranges:\n",
        "    None\n",
        "location:\n",
        "    None\n",
        "status:\n",
        "    '200 OK'\n",
        "default_mimetype:\n",
        "    'text/html'\n",
        "expires:\n",
        "    None\n",
        "force_type:\n",
        "    <bound method type.force_type of <class 'flask.wrappers.Response'>>\n",
        "set_cookie:\n",
        "    <bound method Response.set_cookie of <Response 682 bytes [200 OK]>>\n",
        "get_wsgi_headers:\n",
        "    <bound method Response.get_wsgi_headers of <Response 682 bytes [200 OK]>>\n",
        "retry_after:\n",
        "    None\n",
        "content_type:\n",
        "    'text/html; charset=utf-8'\n",
        "set_data:\n",
        "    <bound method Response.set_data of <Response 682 bytes [200 OK]>>\n",
        "date:\n",
        "    None\n",
        "is_sequence:\n",
        "    True\n",
        "direct_passthrough:\n",
        "    False\n",
        "data:\n",
        "    '<!DOCTYPE html>\\n<html>\\n  <head>\\n    <title>Flask Intro</title>\\n    <meta name=\"viewport\" content=\"width=device-width, initial-scale=1.0\">\\n    <link href=\"static/css/bootstrap.min.css\" rel=\"stylesheet\" media=\"screen\">\\n  </head>\\n  <body>\\n\\n    <div class=\"container\">\\n\\n      <!-- child template -->\\n      \\n\\n<h1>Please Login</h1>\\n<br>\\n<form action=\"\" method=\"post\">\\n  <input type=\"text\" placeholder=\"Username\" name=\"username\" value=\"\">\\n   <input type=\"password\" placeholder=\"Password\" name=\"password\" value=\"\">\\n  <input class=\"btn btn-default\" type=\"submit\" value=\"Login\">\\n\\n\\n      <br>\\n      <!-- errors -->\\n      \\n      <br>\\n      <!-- messages -->\\n      \\n    </div>\\n\\n  </body>\\n</html>'\n",
        "response:\n",
        "    ['<!DOCTYPE html>\\n<html>\\n  <head>\\n    <title>Flask Intro</title>\\n    <meta name=\"viewport\" content=\"width=device-width, initial-scale=1.0\">\\n    <link href=\"static/css/bootstrap.min.css\" rel=\"stylesheet\" media=\"screen\">\\n  </head>\\n  <body>\\n\\n    <div class=\"container\">\\n\\n      <!-- child template -->\\n      \\n\\n<h1>Please Login</h1>\\n<br>\\n<form action=\"\" method=\"post\">\\n  <input type=\"text\" placeholder=\"Username\" name=\"username\" value=\"\">\\n   <input type=\"password\" placeholder=\"Password\" name=\"password\" value=\"\">\\n  <input class=\"btn btn-default\" type=\"submit\" value=\"Login\">\\n\\n\\n      <br>\\n      <!-- errors -->\\n      \\n      <br>\\n      <!-- messages -->\\n      \\n    </div>\\n\\n  </body>\\n</html>']\n",
        "mimetype_params:\n",
        "    <CallbackDict {'charset': 'utf-8'}>\n",
        "is_streamed:\n",
        "    False\n",
        "mimetype:\n",
        "    'text/html'\n",
        "iter_encoded:\n",
        "    <bound method Response.iter_encoded of <Response 682 bytes [200 OK]>>\n",
        "age:\n",
        "    None\n",
        "cache_control:\n",
        "    <ResponseCacheControl ''>\n",
        "set_etag:\n",
        "    <bound method Response.set_etag of <Response 682 bytes [200 OK]>>\n",
        "headers:\n",
        "    Headers([('Content-Type', 'text/html; charset=utf-8'), ('Content-Length', '682')])\n",
        "last_modified:\n",
        "    None\n",
        "allow:\n",
        "    HeaderSet([])\n",
        "from_app:\n",
        "    <bound method type.from_app of <class 'flask.wrappers.Response'>>\n",
        "call_on_close:\n",
        "    <bound method Response.call_on_close of <Response 682 bytes [200 OK]>>\n",
        "vary:\n",
        "    HeaderSet([])\n",
        "====================================================================================================\n"
       ]
      }
     ],
     "prompt_number": 16
    },
    {
     "cell_type": "code",
     "collapsed": false,
     "input": [
      "with open(\"response_post.pickle\", \"rb\") as rf:\n",
      "    temp_dir = pickle.load(rf)\n",
      "match = []\n",
      "for key in temp_dir.keys():\n",
      "    match.append(pattern.match(key))\n",
      "instance_methods = [method.group() for method in match if method is not None]\n",
      "print \"{:=^100}\".format(\"\")\n",
      "print \"{title:=^100}\".format(title = \" Instance Method (POST)\")\n",
      "for key in instance_methods:\n",
      "    content = key + \":\\n\" + \"    \" + temp_dir[key]\n",
      "    print content\n",
      "print \"{:=^100}\".format(\"\")"
     ],
     "language": "python",
     "metadata": {},
     "outputs": [
      {
       "output_type": "stream",
       "stream": "stdout",
       "text": [
        "====================================================================================================\n",
        "====================================== Instance Method (POST)=======================================\n",
        "content_length:\n",
        "    209\n",
        "charset:\n",
        "    'utf-8'\n",
        "calculate_content_length:\n",
        "    <bound method Response.calculate_content_length of <Response streamed [302 FOUND]>>\n",
        "stream:\n",
        "    <werkzeug.wrappers.ResponseStream object at 0x10cdb0450>\n",
        "make_conditional:\n",
        "    <bound method Response.make_conditional of <Response 209 bytes [302 FOUND]>>\n",
        "status_code:\n",
        "    302\n",
        "implicit_sequence_conversion:\n",
        "    True\n",
        "freeze:\n",
        "    <bound method Response.freeze of <Response 209 bytes [302 FOUND]>>\n",
        "content_language:\n",
        "    HeaderSet([])\n",
        "make_sequence:\n",
        "    <bound method Response.make_sequence of <Response 209 bytes [302 FOUND]>>\n",
        "default_status:\n",
        "    200\n",
        "content_location:\n",
        "    None\n",
        "close:\n",
        "    <bound method Response.close of <Response streamed [302 FOUND]>>\n",
        "autocorrect_location_header:\n",
        "    True\n",
        "get_app_iter:\n",
        "    <bound method Response.get_app_iter of <Response 209 bytes [302 FOUND]>>\n",
        "add_etag:\n",
        "    <bound method Response.add_etag of <Response streamed [302 FOUND]>>\n",
        "delete_cookie:\n",
        "    <bound method Response.delete_cookie of <Response 209 bytes [302 FOUND]>>\n",
        "get_data:\n",
        "    <bound method Response.get_data of <Response 209 bytes [302 FOUND]>>\n",
        "get_etag:\n",
        "    <bound method Response.get_etag of <Response 209 bytes [302 FOUND]>>\n",
        "get_wsgi_response:\n",
        "    <bound method Response.get_wsgi_response of <Response 209 bytes [302 FOUND]>>\n",
        "www_authenticate:\n",
        "    <WWWAuthenticate 'Basic '>\n",
        "content_range:\n",
        "    <ContentRange ''>\n",
        "content_encoding:\n",
        "    None\n",
        "content_md5:\n",
        "    None\n",
        "automatically_set_content_length:\n",
        "    True\n",
        "accept_ranges:\n",
        "    None\n",
        "location:\n",
        "    'http://localhost/'\n",
        "status:\n",
        "    '302 FOUND'\n",
        "default_mimetype:\n",
        "    'text/html'\n",
        "expires:\n",
        "    None\n",
        "force_type:\n",
        "    <bound method type.force_type of <class 'flask.wrappers.Response'>>\n",
        "set_cookie:\n",
        "    <bound method Response.set_cookie of <Response 209 bytes [302 FOUND]>>\n",
        "get_wsgi_headers:\n",
        "    <bound method Response.get_wsgi_headers of <Response 209 bytes [302 FOUND]>>\n",
        "retry_after:\n",
        "    None\n",
        "content_type:\n",
        "    'text/html; charset=utf-8'\n",
        "set_data:\n",
        "    <bound method Response.set_data of <Response 209 bytes [302 FOUND]>>\n",
        "date:\n",
        "    None\n",
        "is_sequence:\n",
        "    True\n",
        "direct_passthrough:\n",
        "    False\n",
        "data:\n",
        "    '<!DOCTYPE HTML PUBLIC \"-//W3C//DTD HTML 3.2 Final//EN\">\\n<title>Redirecting...</title>\\n<h1>Redirecting...</h1>\\n<p>You should be redirected automatically to target URL: <a href=\"/\">/</a>.  If not click the link.'\n",
        "response:\n",
        "    ['<!DOCTYPE HTML PUBLIC \"-//W3C//DTD HTML 3.2 Final//EN\">\\n<title>Redirecting...</title>\\n<h1>Redirecting...</h1>\\n<p>You should be redirected automatically to target URL: <a href=\"/\">/</a>.  If not click the link.']\n",
        "mimetype_params:\n",
        "    <CallbackDict {'charset': 'utf-8'}>\n",
        "is_streamed:\n",
        "    False\n",
        "mimetype:\n",
        "    'text/html'\n",
        "iter_encoded:\n",
        "    <bound method Response.iter_encoded of <Response 209 bytes [302 FOUND]>>\n",
        "age:\n",
        "    None\n",
        "cache_control:\n",
        "    <ResponseCacheControl ''>\n",
        "set_etag:\n",
        "    <bound method Response.set_etag of <Response 209 bytes [302 FOUND]>>\n",
        "headers:\n",
        "    Headers([('Content-Type', 'text/html; charset=utf-8'), ('Content-Length', '209'), ('Location', 'http://localhost/'), ('Set-Cookie', 'session=.eJyrVopPy0kszkgtVrKKrlZSKIFQSUpWSknhYVXJRm55UYG2tkq1OlDR8HBLQ0-PlJzk3ND0xLywqhRnp-Iko5S8qPDA9MRwk1Kl2tjaWB2lnPz09NSU-Mw8JauSotLUWgC2qSIT.ByK6cw.-4SFU-Mc2vXh7FqoKNIWAMZNhmk; HttpOnly; Path=/')])\n",
        "last_modified:\n",
        "    None\n",
        "allow:\n",
        "    HeaderSet([])\n",
        "from_app:\n",
        "    <bound method type.from_app of <class 'flask.wrappers.Response'>>\n",
        "call_on_close:\n",
        "    <bound method Response.call_on_close of <Response streamed [302 FOUND]>>\n",
        "vary:\n",
        "    HeaderSet([])\n",
        "====================================================================================================\n"
       ]
      }
     ],
     "prompt_number": 17
    },
    {
     "cell_type": "code",
     "collapsed": false,
     "input": [
      "with open(\"tester.pickle\", \"rb\") as rf:\n",
      "    temp_dir = pickle.load(rf)\n",
      "match = []\n",
      "for key in temp_dir.keys():\n",
      "    match.append(pattern.match(key))\n",
      "instance_methods = [method.group() for method in match if method is not None]\n",
      "print \"{:=^100}\".format(\"\")\n",
      "print \"{title:=^100}\".format(title = \" Instance Method (POST)\")\n",
      "for key in instance_methods:\n",
      "    content = key + \":\\n\" + \"    \" + temp_dir[key]\n",
      "    print content\n",
      "print \"{:=^100}\".format(\"\")"
     ],
     "language": "python",
     "metadata": {},
     "outputs": [
      {
       "output_type": "stream",
       "stream": "stdout",
       "text": [
        "====================================================================================================\n",
        "====================================== Instance Method (POST)=======================================\n",
        "set_cookie:\n",
        "    <bound method FlaskClient.set_cookie of <FlaskClient <Flask 'app'>>>\n",
        "cookie_jar:\n",
        "    <werkzeug.test._TestCookieJar[]>\n",
        "response_wrapper:\n",
        "    <class 'flask.wrappers.Response'>\n",
        "open:\n",
        "    <bound method FlaskClient.open of <FlaskClient <Flask 'app'>>>\n",
        "preserve_context:\n",
        "    False\n",
        "application:\n",
        "    <Flask 'app'>\n",
        "delete_cookie:\n",
        "    <bound method FlaskClient.delete_cookie of <FlaskClient <Flask 'app'>>>\n",
        "resolve_redirect:\n",
        "    <bound method FlaskClient.resolve_redirect of <FlaskClient <Flask 'app'>>>\n",
        "head:\n",
        "    <bound method FlaskClient.head of <FlaskClient <Flask 'app'>>>\n",
        "run_wsgi_app:\n",
        "    <bound method FlaskClient.run_wsgi_app of <FlaskClient <Flask 'app'>>>\n",
        "trace:\n",
        "    <bound method FlaskClient.trace of <FlaskClient <Flask 'app'>>>\n",
        "get:\n",
        "    <bound method FlaskClient.get of <FlaskClient <Flask 'app'>>>\n",
        "put:\n",
        "    <bound method FlaskClient.put of <FlaskClient <Flask 'app'>>>\n",
        "post:\n",
        "    <bound method FlaskClient.post of <FlaskClient <Flask 'app'>>>\n",
        "session_transaction:\n",
        "    <bound method FlaskClient.session_transaction of <FlaskClient <Flask 'app'>>>\n",
        "allow_subdomain_redirects:\n",
        "    False\n",
        "patch:\n",
        "    <bound method FlaskClient.patch of <FlaskClient <Flask 'app'>>>\n",
        "options:\n",
        "    <bound method FlaskClient.options of <FlaskClient <Flask 'app'>>>\n",
        "delete:\n",
        "    <bound method FlaskClient.delete of <FlaskClient <Flask 'app'>>>\n",
        "====================================================================================================\n"
       ]
      }
     ],
     "prompt_number": 18
    },
    {
     "cell_type": "code",
     "collapsed": false,
     "input": [
      "from app import app"
     ],
     "language": "python",
     "metadata": {},
     "outputs": [],
     "prompt_number": 20
    },
    {
     "cell_type": "code",
     "collapsed": false,
     "input": [
      "app.test_client?"
     ],
     "language": "python",
     "metadata": {},
     "outputs": [],
     "prompt_number": 16
    },
    {
     "cell_type": "code",
     "collapsed": false,
     "input": [
      "tester.post?"
     ],
     "language": "python",
     "metadata": {},
     "outputs": [],
     "prompt_number": 128
    },
    {
     "cell_type": "code",
     "collapsed": false,
     "input": [
      "from flask.ext.sqlalchemy import SQLAlchemy"
     ],
     "language": "python",
     "metadata": {},
     "outputs": [],
     "prompt_number": 9
    },
    {
     "cell_type": "code",
     "collapsed": false,
     "input": [
      "from app import db"
     ],
     "language": "python",
     "metadata": {},
     "outputs": [],
     "prompt_number": 11
    },
    {
     "cell_type": "code",
     "collapsed": false,
     "input": [
      "db.create_all?"
     ],
     "language": "python",
     "metadata": {},
     "outputs": [],
     "prompt_number": 12
    },
    {
     "cell_type": "code",
     "collapsed": false,
     "input": [
      "import models"
     ],
     "language": "python",
     "metadata": {},
     "outputs": [],
     "prompt_number": 39
    },
    {
     "cell_type": "code",
     "collapsed": false,
     "input": [
      "dir(models)"
     ],
     "language": "python",
     "metadata": {},
     "outputs": [
      {
       "metadata": {},
       "output_type": "pyout",
       "prompt_number": 40,
       "text": [
        "['BlogPost',\n",
        " '__builtins__',\n",
        " '__doc__',\n",
        " '__file__',\n",
        " '__name__',\n",
        " '__package__',\n",
        " 'db']"
       ]
      }
     ],
     "prompt_number": 40
    },
    {
     "cell_type": "code",
     "collapsed": false,
     "input": [
      "from models import BlogPost"
     ],
     "language": "python",
     "metadata": {},
     "outputs": [],
     "prompt_number": 41
    },
    {
     "cell_type": "code",
     "collapsed": false,
     "input": [
      "unicode(\"a\")"
     ],
     "language": "python",
     "metadata": {},
     "outputs": [
      {
       "metadata": {},
       "output_type": "pyout",
       "prompt_number": 18,
       "text": [
        "u'a'"
       ]
      }
     ],
     "prompt_number": 18
    },
    {
     "cell_type": "code",
     "collapsed": false,
     "input": [
      "with open(\"secretkey.txt\", \"r\") as rf:\n",
      "    secret_key = rf.readline()"
     ],
     "language": "python",
     "metadata": {},
     "outputs": [],
     "prompt_number": 16
    },
    {
     "cell_type": "code",
     "collapsed": false,
     "input": [
      "secret_key"
     ],
     "language": "python",
     "metadata": {},
     "outputs": [
      {
       "metadata": {},
       "output_type": "pyout",
       "prompt_number": 17,
       "text": [
        "'\\xbe\\xac\\xe6\\xa2i\\x0c\\xf8\\xc1\\xbe\\xe9\\x81\\xc7!\\x87?r 1)\\xe2\\x05&\\x94e'"
       ]
      }
     ],
     "prompt_number": 17
    },
    {
     "cell_type": "code",
     "collapsed": false,
     "input": [],
     "language": "python",
     "metadata": {},
     "outputs": []
    }
   ],
   "metadata": {}
  }
 ]
}